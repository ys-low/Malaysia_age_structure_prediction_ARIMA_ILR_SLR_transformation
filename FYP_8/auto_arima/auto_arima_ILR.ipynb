{
 "cells": [
  {
   "cell_type": "code",
   "execution_count": 2,
   "metadata": {},
   "outputs": [],
   "source": [
    "from sklearn.model_selection import train_test_split\n",
    "import pandas as pd\n",
    "import matplotlib.pyplot as plt\n",
    "import numpy as np\n",
    "from statsmodels.tsa.arima.model import ARIMA\n",
    "import warnings\n",
    "warnings.filterwarnings(\"ignore\")\n",
    "import pmdarima\n",
    "from pmdarima import auto_arima\n",
    "from math import sqrt\n",
    "from sklearn.metrics import mean_squared_error\n",
    "from composition_stats import ilr,ilr_inv"
   ]
  },
  {
   "cell_type": "code",
   "execution_count": 3,
   "metadata": {},
   "outputs": [],
   "source": [
    "import os \n",
    "  \n",
    "# current directory \n",
    "current_dir = os.getcwd() \n",
    "relative_path=os.path.abspath(os.path.join(current_dir, os.pardir))"
   ]
  },
  {
   "cell_type": "code",
   "execution_count": 4,
   "metadata": {},
   "outputs": [],
   "source": [
    "ILR_data = pd.DataFrame(pd.read_csv(\n",
    "    relative_path+\"\\\\age_structure_data\\\\ILR_data.csv\"))"
   ]
  },
  {
   "cell_type": "code",
   "execution_count": 5,
   "metadata": {},
   "outputs": [],
   "source": [
    "test_data= pd.DataFrame(pd.read_csv(\n",
    "    relative_path+\"\\\\age_structure_data\\\\df_test.csv\"))\n",
    "test_data['Year'] = pd.to_datetime(test_data['Year'])\n",
    "test_data = test_data.set_index(\"Year\")"
   ]
  },
  {
   "cell_type": "code",
   "execution_count": 6,
   "metadata": {},
   "outputs": [],
   "source": [
    "ILR_data['Year'] = pd.to_datetime(ILR_data['Year'])\n",
    "ILR_data =ILR_data.set_index(\"Year\")"
   ]
  },
  {
   "cell_type": "code",
   "execution_count": 7,
   "metadata": {},
   "outputs": [],
   "source": [
    "Transfomed_ILR_1=ILR_data['log_ratio_1']\n",
    "Transfomed_ILR_2=ILR_data['log_ratio_2']"
   ]
  },
  {
   "cell_type": "code",
   "execution_count": 8,
   "metadata": {},
   "outputs": [],
   "source": [
    "def calculate_rmse_for_cv(train_data, test_data, a, b, c):\n",
    "    arima_model = ARIMA(train_data, order=(a, b, c)).fit()\n",
    "    prediction = arima_model.predict(\n",
    "        start=len(train_data), end=len(train_data)+len(test_data)-1)\n",
    "    rmse = sqrt(mean_squared_error(test_data, prediction))\n",
    "    return rmse, test_data, prediction"
   ]
  },
  {
   "attachments": {},
   "cell_type": "markdown",
   "metadata": {},
   "source": [
    "For Transfomed_ILR_1"
   ]
  },
  {
   "cell_type": "code",
   "execution_count": 9,
   "metadata": {},
   "outputs": [
    {
     "name": "stdout",
     "output_type": "stream",
     "text": [
      "Performing stepwise search to minimize aic\n",
      " ARIMA(0,2,0)(0,0,0)[0] intercept   : AIC=-346.726, Time=0.10 sec\n",
      " ARIMA(1,2,0)(0,0,0)[0] intercept   : AIC=-345.748, Time=0.18 sec\n",
      " ARIMA(0,2,1)(0,0,0)[0] intercept   : AIC=-346.265, Time=0.10 sec\n",
      " ARIMA(0,2,0)(0,0,0)[0]             : AIC=-348.287, Time=0.02 sec\n",
      " ARIMA(1,2,1)(0,0,0)[0] intercept   : AIC=-344.194, Time=0.19 sec\n",
      "\n",
      "Best model:  ARIMA(0,2,0)(0,0,0)[0]          \n",
      "Total fit time: 0.593 seconds\n"
     ]
    },
    {
     "data": {
      "text/plain": [
       "ARIMA(order=(0, 2, 0), scoring_args={}, suppress_warnings=True,\n",
       "      with_intercept=False)"
      ]
     },
     "execution_count": 9,
     "metadata": {},
     "output_type": "execute_result"
    }
   ],
   "source": [
    "auto_arima(Transfomed_ILR_1, start_p=0, d=2 ,start_q=0,\n",
    "           max_p=10, max_q=10, m=1, trace=True, stepwise=True, seasonal=False)"
   ]
  },
  {
   "cell_type": "code",
   "execution_count": 10,
   "metadata": {},
   "outputs": [
    {
     "data": {
      "text/plain": [
       "0.03124717615307973"
      ]
     },
     "execution_count": 10,
     "metadata": {},
     "output_type": "execute_result"
    }
   ],
   "source": [
    "train_1_1, test_1_1 = train_test_split(Transfomed_ILR_1, test_size=0.2, shuffle=False)\n",
    "train_1_2, test_1_2 = train_test_split(train_1_1, test_size=0.2, shuffle=False)\n",
    "train_1_3, test_1_3 = train_test_split(train_1_2, test_size=0.2, shuffle=False)\n",
    "rmse1_1, test_data1_1, prediction_test1_1=calculate_rmse_for_cv(train_1_1, test_1_1,0,2,0)\n",
    "rmse1_2, test_data1_2, prediction_test1_2=calculate_rmse_for_cv(train_1_2, test_1_2,0,2,0)\n",
    "rmse1_3, test_data1_3, prediction_test1_3=calculate_rmse_for_cv(train_1_3, test_1_3,0,2,0)\n",
    "average_rmse_1=(rmse1_1+rmse1_2+rmse1_3)/3\n",
    "average_rmse_1"
   ]
  },
  {
   "cell_type": "code",
   "execution_count": 11,
   "metadata": {},
   "outputs": [],
   "source": [
    "arima_model_1 = ARIMA(Transfomed_ILR_1, order=(0, 2, 0)).fit()\n",
    "prediction_1 = arima_model_1.predict(\n",
    "    start=len(Transfomed_ILR_1), end=len(Transfomed_ILR_1)+len(test_data)-1)\n",
    "prediction_1 = prediction_1.to_frame()\n",
    "prediction_1.rename(columns = {'predicted_mean':0}, inplace = True)\n",
    "final_1 = pd.concat([Transfomed_ILR_1, prediction_1])"
   ]
  },
  {
   "attachments": {},
   "cell_type": "markdown",
   "metadata": {},
   "source": [
    "For Transfomed_ILR_2"
   ]
  },
  {
   "cell_type": "code",
   "execution_count": 12,
   "metadata": {},
   "outputs": [
    {
     "name": "stdout",
     "output_type": "stream",
     "text": [
      "Performing stepwise search to minimize aic\n",
      " ARIMA(0,2,0)(0,0,0)[0] intercept   : AIC=-392.126, Time=0.16 sec\n",
      " ARIMA(1,2,0)(0,0,0)[0] intercept   : AIC=-394.912, Time=0.05 sec\n",
      " ARIMA(0,2,1)(0,0,0)[0] intercept   : AIC=-392.358, Time=0.19 sec\n",
      " ARIMA(0,2,0)(0,0,0)[0]             : AIC=-391.838, Time=0.03 sec\n",
      " ARIMA(2,2,0)(0,0,0)[0] intercept   : AIC=-392.650, Time=0.26 sec\n",
      " ARIMA(1,2,1)(0,0,0)[0] intercept   : AIC=-391.701, Time=0.27 sec\n",
      " ARIMA(2,2,1)(0,0,0)[0] intercept   : AIC=inf, Time=0.18 sec\n",
      " ARIMA(1,2,0)(0,0,0)[0]             : AIC=-395.444, Time=0.12 sec\n",
      " ARIMA(2,2,0)(0,0,0)[0]             : AIC=-393.143, Time=0.11 sec\n",
      " ARIMA(1,2,1)(0,0,0)[0]             : AIC=-392.075, Time=0.15 sec\n",
      " ARIMA(0,2,1)(0,0,0)[0]             : AIC=-392.366, Time=0.12 sec\n",
      " ARIMA(2,2,1)(0,0,0)[0]             : AIC=-385.838, Time=0.08 sec\n",
      "\n",
      "Best model:  ARIMA(1,2,0)(0,0,0)[0]          \n",
      "Total fit time: 1.735 seconds\n"
     ]
    },
    {
     "data": {
      "text/plain": [
       "ARIMA(order=(1, 2, 0), scoring_args={}, suppress_warnings=True,\n",
       "      with_intercept=False)"
      ]
     },
     "execution_count": 12,
     "metadata": {},
     "output_type": "execute_result"
    }
   ],
   "source": [
    "auto_arima(Transfomed_ILR_2, start_p=0, d=2 ,start_q=0,\n",
    "           max_p=10, max_d=2, max_q=10, m=1, trace=True, stepwise=True, seasonal=False)"
   ]
  },
  {
   "cell_type": "code",
   "execution_count": 13,
   "metadata": {},
   "outputs": [
    {
     "data": {
      "text/plain": [
       "0.020759945316900525"
      ]
     },
     "execution_count": 13,
     "metadata": {},
     "output_type": "execute_result"
    }
   ],
   "source": [
    "train_2_1, test_2_1 = train_test_split(Transfomed_ILR_2, test_size=0.2, shuffle=False)\n",
    "train_2_2, test_2_2 = train_test_split(train_2_1, test_size=0.2, shuffle=False)\n",
    "train_2_3, test_2_3 = train_test_split(train_2_2, test_size=0.2, shuffle=False)\n",
    "rmse2_1, test_data2_1, prediction_test2_1=calculate_rmse_for_cv(train_2_1, test_2_1, 1, 2, 0)\n",
    "rmse2_2, test_data2_2, prediction_test2_2=calculate_rmse_for_cv(train_2_2, test_2_2, 1, 2, 0)\n",
    "rmse2_3, test_data2_3, prediction_test2_3=calculate_rmse_for_cv(train_2_3, test_2_3, 1, 2, 0)\n",
    " \n",
    "average_rmse_2=(rmse2_1+rmse2_2+rmse2_3)/3\n",
    "average_rmse_2"
   ]
  },
  {
   "cell_type": "code",
   "execution_count": 14,
   "metadata": {},
   "outputs": [],
   "source": [
    "arima_model_2 = ARIMA(Transfomed_ILR_2, order=(1, 2, 0)).fit()\n",
    "prediction_2 = arima_model_2.predict(\n",
    "    start=len(Transfomed_ILR_2), end=len(Transfomed_ILR_2)+len(test_data)-1)\n",
    "prediction_2 = prediction_2.to_frame()\n",
    "prediction_2.rename(columns = {'predicted_mean':0}, inplace = True)\n",
    "final_2 = pd.concat([Transfomed_ILR_2, prediction_2])"
   ]
  },
  {
   "attachments": {},
   "cell_type": "markdown",
   "metadata": {},
   "source": [
    "Combine part"
   ]
  },
  {
   "cell_type": "code",
   "execution_count": 15,
   "metadata": {},
   "outputs": [],
   "source": [
    "final_1.rename(columns = {0:'log_ratio1'}, inplace = True)\n",
    "final_2.rename(columns = {0:'log_ratio2'}, inplace = True)\n",
    "final = pd.concat([final_1, final_2], axis=1)\n",
    "proportion=ilr_inv(final)"
   ]
  },
  {
   "cell_type": "code",
   "execution_count": 16,
   "metadata": {},
   "outputs": [],
   "source": [
    "def set_col(df):\n",
    "    df = pd.DataFrame(df, columns=[\n",
    "    'elder', 'youth', 'kid'])\n",
    "    df['Year'] = df.index + 1964\n",
    "    df['Year'] = pd.to_datetime(df['Year'], format='%Y')\n",
    "    df = df.set_index(\"Year\")\n",
    "    return df"
   ]
  },
  {
   "cell_type": "code",
   "execution_count": 17,
   "metadata": {},
   "outputs": [],
   "source": [
    "proportion = set_col(proportion)"
   ]
  },
  {
   "cell_type": "code",
   "execution_count": 18,
   "metadata": {},
   "outputs": [],
   "source": [
    "df_actual=proportion[(proportion.index< '2010-01-01')]\n",
    "df_forecast=proportion[(proportion.index> '2009-01-01')]"
   ]
  },
  {
   "cell_type": "code",
   "execution_count": 19,
   "metadata": {},
   "outputs": [],
   "source": [
    "actual_test1 = pd.concat([test_data1_1, test_data2_1], axis=1)\n",
    "actual_test2 = pd.concat([test_data1_2, test_data2_2], axis=1)\n",
    "actual_test3 = pd.concat([test_data1_3, test_data2_3], axis=1)\n",
    "forecast_test1 = pd.concat([prediction_test1_1, prediction_test2_1], axis=1)\n",
    "forecast_test2 = pd.concat([prediction_test1_2, prediction_test2_2], axis=1)\n",
    "forecast_test3 = pd.concat([prediction_test1_3, prediction_test2_3], axis=1)\n",
    "proportion_actual_1=ilr_inv(actual_test1)\n",
    "proportion_actual_2=ilr_inv(actual_test2)\n",
    "proportion_actual_3=ilr_inv(actual_test3)\n",
    "proportion_forecast_1=ilr_inv(forecast_test1)\n",
    "proportion_forecast_2=ilr_inv(forecast_test2)\n",
    "proportion_forecast_3=ilr_inv(forecast_test3)"
   ]
  },
  {
   "cell_type": "code",
   "execution_count": 20,
   "metadata": {},
   "outputs": [
    {
     "data": {
      "text/plain": [
       "0.0025881320692032646"
      ]
     },
     "execution_count": 20,
     "metadata": {},
     "output_type": "execute_result"
    }
   ],
   "source": [
    "rmse1 = sqrt(mean_squared_error(proportion_actual_1, proportion_forecast_1))\n",
    "rmse2 = sqrt(mean_squared_error(proportion_actual_2, proportion_forecast_2))\n",
    "rmse3 = sqrt(mean_squared_error(proportion_actual_3, proportion_forecast_3))\n",
    "\n",
    "rmse_cv=(rmse1+rmse2+rmse3)/3\n",
    "rmse_cv"
   ]
  },
  {
   "cell_type": "code",
   "execution_count": 21,
   "metadata": {},
   "outputs": [
    {
     "data": {
      "text/plain": [
       "0.007979771702392047"
      ]
     },
     "execution_count": 21,
     "metadata": {},
     "output_type": "execute_result"
    }
   ],
   "source": [
    "rmse_final = sqrt(mean_squared_error(df_forecast, test_data))\n",
    "rmse_final"
   ]
  },
  {
   "cell_type": "code",
   "execution_count": 22,
   "metadata": {},
   "outputs": [],
   "source": [
    "df_forecast.to_csv(relative_path+\"\\\\age_structure_data\\\\auto_ILR_forecast.csv\")"
   ]
  },
  {
   "cell_type": "code",
   "execution_count": 23,
   "metadata": {},
   "outputs": [
    {
     "data": {
      "text/plain": [
       "<function matplotlib.pyplot.show(close=None, block=None)>"
      ]
     },
     "execution_count": 23,
     "metadata": {},
     "output_type": "execute_result"
    },
    {
     "data": {
      "image/png": "[encoded data removed]",
      "text/plain": [
       "<Figure size 640x480 with 1 Axes>"
      ]
     },
     "metadata": {},
     "output_type": "display_data"
    }
   ],
   "source": [
    "\n",
    "plt.plot(df_actual['elder'],label=\"Elder\")\n",
    "plt.plot(df_actual['youth'],label=\"Youth\")\n",
    "plt.plot(df_actual['kid'],label=\"Kid\")\n",
    "plt.plot(df_forecast['elder'],label=\"Elder_forecast\")\n",
    "plt.plot(df_forecast['youth'],label=\"Youth_forecast\")\n",
    "plt.plot(df_forecast['kid'],label=\"Kid_forecast\")\n",
    "\n",
    "plt.plot(test_data['elder'],label=\"Elder_actual\")\n",
    "plt.plot(test_data['youth'],label=\"Youth_actual\")\n",
    "plt.plot(test_data['kid'],label=\"Kid_actual\")\n",
    "\n",
    "\n",
    "\n",
    "plt.legend(loc='best')\n",
    "plt.show"
   ]
  }
 ],
 "metadata": {
  "kernelspec": {
   "display_name": "base",
   "language": "python",
   "name": "python3"
  },
  "language_info": {
   "codemirror_mode": {
    "name": "ipython",
    "version": 3
   },
   "file_extension": ".py",
   "mimetype": "text/x-python",
   "name": "python",
   "nbconvert_exporter": "python",
   "pygments_lexer": "ipython3",
   "version": "3.9.13 (main, Aug 25 2022, 23:51:50) [MSC v.1916 64 bit (AMD64)]"
  },
  "orig_nbformat": 4,
  "vscode": {
   "interpreter": {
    "hash": "f08154012ddadd8e950e6e9e035c7a7b32c136e7647e9b7c77e02eb723a8bedb"
   }
  }
 },
 "nbformat": 4,
 "nbformat_minor": 2
}
