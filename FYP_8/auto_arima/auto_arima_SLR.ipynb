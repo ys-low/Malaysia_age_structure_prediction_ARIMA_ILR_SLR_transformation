{
 "cells": [
  {
   "cell_type": "code",
   "execution_count": 6,
   "metadata": {},
   "outputs": [],
   "source": [
    "from sklearn.model_selection import train_test_split\n",
    "import pandas as pd\n",
    "import matplotlib.pyplot as plt\n",
    "import numpy as np\n",
    "from statsmodels.tsa.arima.model import ARIMA\n",
    "import warnings\n",
    "warnings.filterwarnings(\"ignore\")\n",
    "import pmdarima\n",
    "from pmdarima import auto_arima\n",
    "from math import sqrt\n",
    "from sklearn.metrics import mean_squared_error\n",
    "from composition_stats import closure"
   ]
  },
  {
   "cell_type": "code",
   "execution_count": 7,
   "metadata": {},
   "outputs": [],
   "source": [
    "import os \n",
    "  \n",
    "# current directory \n",
    "current_dir = os.getcwd() \n",
    "relative_path=os.path.abspath(os.path.join(current_dir, os.pardir))"
   ]
  },
  {
   "cell_type": "code",
   "execution_count": 8,
   "metadata": {},
   "outputs": [],
   "source": [
    "SLR_data = pd.DataFrame(pd.read_csv(\n",
    "    relative_path+\"\\\\age_structure_data\\\\SLR_data.csv\"))"
   ]
  },
  {
   "cell_type": "code",
   "execution_count": 9,
   "metadata": {},
   "outputs": [],
   "source": [
    "SLR_data['Year'] = pd.to_datetime(SLR_data['Year'])\n",
    "SLR_data =SLR_data.set_index(\"Year\")"
   ]
  },
  {
   "cell_type": "code",
   "execution_count": 10,
   "metadata": {},
   "outputs": [],
   "source": [
    "test_data= pd.DataFrame(pd.read_csv(\n",
    "    r\"C:\\Users\\User\\Projects\\FYP_8\\age_structure_data\\df_test.csv\"))\n",
    "test_data['Year'] = pd.to_datetime(test_data['Year'])\n",
    "test_data = test_data.set_index(\"Year\")"
   ]
  },
  {
   "cell_type": "code",
   "execution_count": 11,
   "metadata": {},
   "outputs": [],
   "source": [
    "SLR_e=SLR_data['log_ratio_e']\n",
    "SLR_y=SLR_data['log_ratio_y']\n",
    "SLR_k=SLR_data['log_ratio_k']"
   ]
  },
  {
   "cell_type": "code",
   "execution_count": 12,
   "metadata": {},
   "outputs": [],
   "source": [
    "def calculate_rmse_for_cv(train_data, test_data, a, b, c):\n",
    "    arima_model = ARIMA(train_data, order=(a, b, c)).fit()\n",
    "    prediction = arima_model.predict(\n",
    "        start=len(train_data), end=len(train_data)+len(test_data)-1)\n",
    "    rmse = sqrt(mean_squared_error(test_data, prediction))\n",
    "    return rmse, test_data, prediction"
   ]
  },
  {
   "attachments": {},
   "cell_type": "markdown",
   "metadata": {},
   "source": [
    "For SLR_e"
   ]
  },
  {
   "cell_type": "code",
   "execution_count": 13,
   "metadata": {},
   "outputs": [
    {
     "name": "stdout",
     "output_type": "stream",
     "text": [
      "Performing stepwise search to minimize aic\n",
      " ARIMA(0,2,0)(0,0,0)[0] intercept   : AIC=-397.974, Time=0.22 sec\n",
      " ARIMA(1,2,0)(0,0,0)[0] intercept   : AIC=-398.276, Time=0.21 sec\n",
      " ARIMA(0,2,1)(0,0,0)[0] intercept   : AIC=-399.126, Time=0.08 sec\n",
      " ARIMA(0,2,0)(0,0,0)[0]             : AIC=-399.243, Time=0.03 sec\n",
      " ARIMA(1,2,1)(0,0,0)[0] intercept   : AIC=-397.160, Time=0.21 sec\n",
      "\n",
      "Best model:  ARIMA(0,2,0)(0,0,0)[0]          \n",
      "Total fit time: 0.743 seconds\n"
     ]
    },
    {
     "data": {
      "text/plain": [
       "ARIMA(order=(0, 2, 0), scoring_args={}, suppress_warnings=True,\n",
       "      with_intercept=False)"
      ]
     },
     "execution_count": 13,
     "metadata": {},
     "output_type": "execute_result"
    }
   ],
   "source": [
    "auto_arima(SLR_e, start_p=0, d=2 ,start_q=0,\n",
    "           max_p=10, max_q=10, m=1, trace=True, stepwise=True, seasonal=False)"
   ]
  },
  {
   "cell_type": "code",
   "execution_count": 14,
   "metadata": {},
   "outputs": [
    {
     "data": {
      "text/plain": [
       "0.01835129281387412"
      ]
     },
     "execution_count": 14,
     "metadata": {},
     "output_type": "execute_result"
    }
   ],
   "source": [
    "train_e_1, test_e_1 = train_test_split(SLR_e, test_size=0.2, shuffle=False)\n",
    "train_e_2, test_e_2 = train_test_split(train_e_1, test_size=0.2, shuffle=False)\n",
    "train_e_3, test_e_3 = train_test_split(train_e_2, test_size=0.2, shuffle=False)\n",
    "rmse_e_1, test_data_e_1, prediction_test_e_1=calculate_rmse_for_cv(train_e_1, test_e_1,0,2,0)\n",
    "rmse_e_2, test_data_e_2, prediction_test_e_2=calculate_rmse_for_cv(train_e_2, test_e_2,0,2,0)\n",
    "rmse_e_3, test_data_e_3, prediction_test_e_3=calculate_rmse_for_cv(train_e_3, test_e_3,0,2,0)\n",
    "average_rmse_e=(rmse_e_1+rmse_e_2+rmse_e_3)/3\n",
    "average_rmse_e"
   ]
  },
  {
   "cell_type": "code",
   "execution_count": 15,
   "metadata": {},
   "outputs": [],
   "source": [
    "arima_model_e = ARIMA(SLR_e, order=(0, 2, 0)).fit()\n",
    "prediction_e = arima_model_e.predict(\n",
    "    start=len(SLR_e), end=len(SLR_e)+len(test_data)-1)\n",
    "prediction_e = prediction_e.to_frame()\n",
    "prediction_e.rename(columns = {'predicted_mean':0}, inplace = True)\n",
    "final_e = pd.concat([SLR_e, prediction_e])"
   ]
  },
  {
   "attachments": {},
   "cell_type": "markdown",
   "metadata": {},
   "source": [
    "For Transfomed_SLR_y"
   ]
  },
  {
   "cell_type": "code",
   "execution_count": 16,
   "metadata": {},
   "outputs": [
    {
     "name": "stdout",
     "output_type": "stream",
     "text": [
      "Performing stepwise search to minimize aic\n",
      " ARIMA(0,1,0)(0,0,0)[0] intercept   : AIC=-417.550, Time=0.07 sec\n",
      " ARIMA(1,1,0)(0,0,0)[0] intercept   : AIC=-450.272, Time=0.08 sec\n",
      " ARIMA(0,1,1)(0,0,0)[0] intercept   : AIC=-439.124, Time=0.07 sec\n",
      " ARIMA(0,1,0)(0,0,0)[0]             : AIC=-318.588, Time=0.03 sec\n",
      " ARIMA(2,1,0)(0,0,0)[0] intercept   : AIC=-450.267, Time=0.08 sec\n",
      " ARIMA(1,1,1)(0,0,0)[0] intercept   : AIC=-450.124, Time=0.09 sec\n",
      " ARIMA(2,1,1)(0,0,0)[0] intercept   : AIC=-446.686, Time=0.13 sec\n",
      " ARIMA(1,1,0)(0,0,0)[0]             : AIC=-444.870, Time=0.07 sec\n",
      "\n",
      "Best model:  ARIMA(1,1,0)(0,0,0)[0] intercept\n",
      "Total fit time: 0.630 seconds\n"
     ]
    },
    {
     "data": {
      "text/plain": [
       "ARIMA(order=(1, 1, 0), scoring_args={}, suppress_warnings=True)"
      ]
     },
     "execution_count": 16,
     "metadata": {},
     "output_type": "execute_result"
    }
   ],
   "source": [
    "auto_arima(SLR_y, start_p=0, d=1 ,start_q=0,\n",
    "           max_p=10, max_d=2, max_q=10, m=1, trace=True, stepwise=True, seasonal=False)"
   ]
  },
  {
   "cell_type": "code",
   "execution_count": 17,
   "metadata": {},
   "outputs": [
    {
     "data": {
      "text/plain": [
       "0.005335931902838869"
      ]
     },
     "execution_count": 17,
     "metadata": {},
     "output_type": "execute_result"
    }
   ],
   "source": [
    "train_y_1, test_y_1 = train_test_split(SLR_y, test_size=0.2, shuffle=False)\n",
    "train_y_2, test_y_2 = train_test_split(train_y_1, test_size=0.2, shuffle=False)\n",
    "train_y_3, test_y_3 = train_test_split(train_y_2, test_size=0.2, shuffle=False)\n",
    "rmse_y_1, test_data_y_1, prediction_test_y_1=calculate_rmse_for_cv(train_y_1, test_y_1, 1, 1, 0)\n",
    "rmse_y_2, test_data_y_2, prediction_test_y_2=calculate_rmse_for_cv(train_y_2, test_y_2, 1, 1, 0)\n",
    "rmse_y_3, test_data_y_3, prediction_test_y_3=calculate_rmse_for_cv(train_y_3, test_y_3, 1, 1, 0)\n",
    " \n",
    "average_rmse_y=(rmse_y_1+rmse_y_2+rmse_y_3)/3\n",
    "average_rmse_y"
   ]
  },
  {
   "cell_type": "code",
   "execution_count": 18,
   "metadata": {},
   "outputs": [],
   "source": [
    "arima_model_y = ARIMA(SLR_y, order=(1, 1, 0)).fit()\n",
    "prediction_y = arima_model_y.predict(\n",
    "    start=len(SLR_y), end=len(SLR_y)+len(test_data)-1)\n",
    "prediction_y = prediction_y.to_frame()\n",
    "prediction_y.rename(columns = {'predicted_mean':0}, inplace = True)\n",
    "final_y = pd.concat([SLR_y, prediction_y])"
   ]
  },
  {
   "attachments": {},
   "cell_type": "markdown",
   "metadata": {},
   "source": [
    "For SLR_k"
   ]
  },
  {
   "cell_type": "code",
   "execution_count": 19,
   "metadata": {},
   "outputs": [
    {
     "name": "stdout",
     "output_type": "stream",
     "text": [
      "Performing stepwise search to minimize aic\n",
      " ARIMA(0,1,0)(0,0,0)[0] intercept   : AIC=-397.930, Time=0.05 sec\n",
      " ARIMA(1,1,0)(0,0,0)[0] intercept   : AIC=-451.734, Time=0.09 sec\n",
      " ARIMA(0,1,1)(0,0,0)[0] intercept   : AIC=-428.912, Time=0.15 sec\n",
      " ARIMA(0,1,0)(0,0,0)[0]             : AIC=-305.547, Time=0.02 sec\n",
      " ARIMA(2,1,0)(0,0,0)[0] intercept   : AIC=-451.062, Time=0.10 sec\n",
      " ARIMA(1,1,1)(0,0,0)[0] intercept   : AIC=-451.327, Time=0.08 sec\n",
      " ARIMA(2,1,1)(0,0,0)[0] intercept   : AIC=-449.101, Time=0.16 sec\n",
      " ARIMA(1,1,0)(0,0,0)[0]             : AIC=-442.808, Time=0.15 sec\n",
      "\n",
      "Best model:  ARIMA(1,1,0)(0,0,0)[0] intercept\n",
      "Total fit time: 0.791 seconds\n"
     ]
    },
    {
     "data": {
      "text/plain": [
       "ARIMA(order=(1, 1, 0), scoring_args={}, suppress_warnings=True)"
      ]
     },
     "execution_count": 19,
     "metadata": {},
     "output_type": "execute_result"
    }
   ],
   "source": [
    "auto_arima(SLR_k, start_p=0, d=1 ,start_q=0,\n",
    "           max_p=10, max_d=2, max_q=10, m=1, trace=True, stepwise=True, seasonal=False)"
   ]
  },
  {
   "cell_type": "code",
   "execution_count": 20,
   "metadata": {},
   "outputs": [
    {
     "data": {
      "text/plain": [
       "0.014655066370072497"
      ]
     },
     "execution_count": 20,
     "metadata": {},
     "output_type": "execute_result"
    }
   ],
   "source": [
    "train_k_1, test_k_1 = train_test_split(SLR_k, test_size=0.2, shuffle=False)\n",
    "train_k_2, test_k_2 = train_test_split(train_k_1, test_size=0.2, shuffle=False)\n",
    "train_k_3, test_k_3 = train_test_split(train_k_2, test_size=0.2, shuffle=False)\n",
    "rmse_k_1, test_data_k_1, prediction_test_k_1=calculate_rmse_for_cv(train_k_1, test_k_1, 1, 1, 0)\n",
    "rmse_k_2, test_data_k_2, prediction_test_k_2=calculate_rmse_for_cv(train_k_2, test_k_2, 1, 1, 0)\n",
    "rmse_k_3, test_data_k_3, prediction_test_k_3=calculate_rmse_for_cv(train_k_3, test_k_3, 1, 1, 0)\n",
    " \n",
    "average_rmse_k=(rmse_k_1+rmse_k_2+rmse_k_3)/3\n",
    "average_rmse_k"
   ]
  },
  {
   "cell_type": "code",
   "execution_count": 21,
   "metadata": {},
   "outputs": [],
   "source": [
    "arima_model_k = ARIMA(SLR_k, order=(1, 1, 0)).fit()\n",
    "prediction_k = arima_model_k.predict(\n",
    "    start=len(SLR_k), end=len(SLR_k)+len(test_data)-1)\n",
    "prediction_k = prediction_k.to_frame()\n",
    "prediction_k.rename(columns = {'predicted_mean':0}, inplace = True)\n",
    "final_k = pd.concat([SLR_k, prediction_k])"
   ]
  },
  {
   "attachments": {},
   "cell_type": "markdown",
   "metadata": {},
   "source": [
    "Combine part"
   ]
  },
  {
   "cell_type": "code",
   "execution_count": 22,
   "metadata": {},
   "outputs": [],
   "source": [
    "final_e.rename(columns = {0:'log_ratio_e'}, inplace = True)\n",
    "final_y.rename(columns = {0:'log_ratio_y'}, inplace = True)\n",
    "final_k.rename(columns = {0:'log_ratio_k'}, inplace = True)"
   ]
  },
  {
   "cell_type": "code",
   "execution_count": 23,
   "metadata": {},
   "outputs": [],
   "source": [
    "def SLR_inv(df1,df2,df3):\n",
    "    arr_e = df1.to_numpy()\n",
    "    arr_y = df2.to_numpy()\n",
    "    arr_k = df3.to_numpy()\n",
    "    e_log_ratio = pd.DataFrame(arr_e,columns=['e_log_ratio'])\n",
    "    y_log_ratio = pd.DataFrame(arr_y,columns=['y_log_ratio'])\n",
    "    k_log_ratio = pd.DataFrame(arr_k,columns=['y_log_ratio'])\n",
    "    e2_arr=[]\n",
    "    y2_arr=[]\n",
    "    k2_arr=[]\n",
    "    for i in range(len(df1)):\n",
    "        A = e_log_ratio._get_value(i,0,takeable = True)\n",
    "        B = y_log_ratio._get_value(i,0,takeable = True)\n",
    "        C = k_log_ratio._get_value(i,0,takeable = True)\n",
    "        e2_arr.append(1)\n",
    "        y2_arr.append(((1/10**A)+1)/((1/10**B)+1))\n",
    "        k2_arr.append(((1/10**A)+1)/((1/10**C)+1))\n",
    "    e_prepro = pd.DataFrame(e2_arr, columns=['e_prepro'])\n",
    "    y_prepro = pd.DataFrame(y2_arr, columns=['y_prepro'])\n",
    "    k_prepro = pd.DataFrame(k2_arr, columns=['k_prepro'])\n",
    "    prepro = pd.concat([e_prepro, y_prepro,k_prepro],axis=1)\n",
    "    data_proportion = closure(prepro)\n",
    "    return data_proportion\n",
    "\n"
   ]
  },
  {
   "cell_type": "code",
   "execution_count": 24,
   "metadata": {},
   "outputs": [],
   "source": [
    "data_proportion=SLR_inv(final_e,final_y,final_k)"
   ]
  },
  {
   "cell_type": "code",
   "execution_count": 25,
   "metadata": {},
   "outputs": [],
   "source": [
    "def set_col(df):\n",
    "    df = pd.DataFrame(df, columns=[\n",
    "    'elder', 'youth', 'kid'])\n",
    "    df['Year'] = df.index + 1964\n",
    "    df['Year'] = pd.to_datetime(df['Year'], format='%Y')\n",
    "    df = df.set_index(\"Year\")\n",
    "    return df"
   ]
  },
  {
   "cell_type": "code",
   "execution_count": 26,
   "metadata": {},
   "outputs": [],
   "source": [
    "proportion = set_col(data_proportion)"
   ]
  },
  {
   "cell_type": "code",
   "execution_count": 27,
   "metadata": {},
   "outputs": [],
   "source": [
    "df_actual=proportion[(proportion.index< '2010-01-01')]\n",
    "df_forecast=proportion[(proportion.index> '2009-01-01')]"
   ]
  },
  {
   "cell_type": "code",
   "execution_count": 28,
   "metadata": {},
   "outputs": [],
   "source": [
    "proportion_actual_1=SLR_inv(test_data_e_1, test_data_y_1,  test_data_k_1)\n",
    "proportion_actual_2=SLR_inv(test_data_e_2, test_data_y_2, test_data_k_2)\n",
    "proportion_actual_3=SLR_inv(test_data_e_3, test_data_y_3, test_data_k_3)\n",
    "proportion_forecast_1=SLR_inv(prediction_test_e_1, prediction_test_y_1, prediction_test_k_1)\n",
    "proportion_forecast_2=SLR_inv(prediction_test_e_2, prediction_test_y_2,prediction_test_k_2)\n",
    "proportion_forecast_3=SLR_inv(prediction_test_e_3, prediction_test_y_3,prediction_test_k_3)"
   ]
  },
  {
   "cell_type": "code",
   "execution_count": 29,
   "metadata": {},
   "outputs": [
    {
     "data": {
      "text/plain": [
       "0.004823228314051514"
      ]
     },
     "execution_count": 29,
     "metadata": {},
     "output_type": "execute_result"
    }
   ],
   "source": [
    "rmse1 = sqrt(mean_squared_error(proportion_actual_1, proportion_forecast_1))\n",
    "rmse2 = sqrt(mean_squared_error(proportion_actual_2, proportion_forecast_2))\n",
    "rmse3 = sqrt(mean_squared_error(proportion_actual_3, proportion_forecast_3))\n",
    "\n",
    "rmse_cv=(rmse1+rmse2+rmse3)/3\n",
    "rmse_cv"
   ]
  },
  {
   "cell_type": "code",
   "execution_count": 30,
   "metadata": {},
   "outputs": [
    {
     "data": {
      "text/plain": [
       "0.007979799332713889"
      ]
     },
     "execution_count": 30,
     "metadata": {},
     "output_type": "execute_result"
    }
   ],
   "source": [
    "rmse_final = sqrt(mean_squared_error(df_forecast, test_data))\n",
    "rmse_final"
   ]
  },
  {
   "cell_type": "code",
   "execution_count": 31,
   "metadata": {},
   "outputs": [],
   "source": [
    "df_forecast.to_csv(relative_path+\"\\\\age_structure_data\\\\auto_SLR_forecast.csv\")"
   ]
  },
  {
   "cell_type": "code",
   "execution_count": 32,
   "metadata": {},
   "outputs": [
    {
     "data": {
      "text/plain": [
       "<function matplotlib.pyplot.show(close=None, block=None)>"
      ]
     },
     "execution_count": 32,
     "metadata": {},
     "output_type": "execute_result"
    },
    {
     "data": {
      "image/png": "[encoded data removed]",
      "text/plain": [
       "<Figure size 640x480 with 1 Axes>"
      ]
     },
     "metadata": {},
     "output_type": "display_data"
    }
   ],
   "source": [
    "plt.plot(df_actual['elder'],label=\"Elder\")\n",
    "plt.plot(df_actual['youth'],label=\"Youth\")\n",
    "plt.plot(df_actual['kid'],label=\"Kid\")\n",
    "plt.plot(df_forecast['elder'],label=\"Elder_forecast\")\n",
    "plt.plot(df_forecast['youth'],label=\"Youth_forecast\")\n",
    "plt.plot(df_forecast['kid'],label=\"Kid_forecast\")\n",
    "plt.plot(test_data['elder'],label=\"Elder_actual\")\n",
    "plt.plot(test_data['youth'],label=\"Youth_actual\")\n",
    "plt.plot(test_data['kid'],label=\"Kid_actual\")\n",
    "\n",
    "\n",
    "\n",
    "plt.legend(loc='best')\n",
    "plt.show"
   ]
  }
 ],
 "metadata": {
  "kernelspec": {
   "display_name": "base",
   "language": "python",
   "name": "python3"
  },
  "language_info": {
   "codemirror_mode": {
    "name": "ipython",
    "version": 3
   },
   "file_extension": ".py",
   "mimetype": "text/x-python",
   "name": "python",
   "nbconvert_exporter": "python",
   "pygments_lexer": "ipython3",
   "version": "3.9.13"
  },
  "orig_nbformat": 4,
  "vscode": {
   "interpreter": {
    "hash": "f08154012ddadd8e950e6e9e035c7a7b32c136e7647e9b7c77e02eb723a8bedb"
   }
  }
 },
 "nbformat": 4,
 "nbformat_minor": 2
}
