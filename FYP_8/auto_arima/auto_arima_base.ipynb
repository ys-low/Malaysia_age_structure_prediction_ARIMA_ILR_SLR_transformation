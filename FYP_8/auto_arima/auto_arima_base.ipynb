{
 "cells": [
  {
   "cell_type": "code",
   "execution_count": 13,
   "metadata": {},
   "outputs": [],
   "source": [
    "from sklearn.model_selection import train_test_split\n",
    "import pandas as pd\n",
    "import matplotlib.pyplot as plt\n",
    "import numpy as np\n",
    "from statsmodels.tsa.arima.model import ARIMA\n",
    "import warnings\n",
    "warnings.filterwarnings(\"ignore\")\n",
    "import pmdarima\n",
    "from pmdarima import auto_arima\n",
    "from math import sqrt\n",
    "from sklearn.metrics import mean_squared_error\n",
    "from composition_stats import closure"
   ]
  },
  {
   "cell_type": "code",
   "execution_count": 14,
   "metadata": {},
   "outputs": [],
   "source": [
    "import os \n",
    "  \n",
    "# current directory \n",
    "current_dir = os.getcwd() \n",
    "relative_path=os.path.abspath(os.path.join(current_dir, os.pardir))"
   ]
  },
  {
   "cell_type": "code",
   "execution_count": 39,
   "metadata": {},
   "outputs": [
    {
     "data": {
      "text/plain": [
       "'c:\\\\Users\\\\User\\\\Projects\\\\FYP_8'"
      ]
     },
     "execution_count": 39,
     "metadata": {},
     "output_type": "execute_result"
    }
   ],
   "source": [
    "\n",
    "relative_path"
   ]
  },
  {
   "cell_type": "code",
   "execution_count": 15,
   "metadata": {},
   "outputs": [],
   "source": [
    "train_data= pd.DataFrame(pd.read_csv(\n",
    "    relative_path+\"\\\\age_structure_data\\\\df_train.csv\"))\n",
    "train_data['Year'] = pd.to_datetime(train_data['Year'])\n",
    "train_data = train_data.set_index(\"Year\")\n",
    "\n",
    "test_data= pd.DataFrame(pd.read_csv(\n",
    "    relative_path+\"\\\\age_structure_data\\\\df_test.csv\"))\n",
    "test_data['Year'] = pd.to_datetime(test_data['Year'])\n",
    "test_data = test_data.set_index(\"Year\")"
   ]
  },
  {
   "cell_type": "code",
   "execution_count": 16,
   "metadata": {},
   "outputs": [],
   "source": [
    "e_ori=train_data['elder']\n",
    "y_ori=train_data['youth']\n",
    "k_ori=train_data['kid']"
   ]
  },
  {
   "cell_type": "code",
   "execution_count": 17,
   "metadata": {},
   "outputs": [],
   "source": [
    "def calculate_rmse_for_cv(train_data, test_data, a, b, c):\n",
    "    arima_model = ARIMA(train_data, order=(a, b, c)).fit()\n",
    "    prediction = arima_model.predict(\n",
    "        start=len(train_data), end=len(train_data)+len(test_data)-1)\n",
    "    rmse = sqrt(mean_squared_error(test_data, prediction))\n",
    "    return rmse, test_data, prediction"
   ]
  },
  {
   "cell_type": "code",
   "execution_count": 18,
   "metadata": {},
   "outputs": [
    {
     "name": "stdout",
     "output_type": "stream",
     "text": [
      "Performing stepwise search to minimize aic\n",
      " ARIMA(0,2,0)(0,0,0)[0] intercept   : AIC=-617.256, Time=0.18 sec\n",
      " ARIMA(1,2,0)(0,0,0)[0] intercept   : AIC=-617.953, Time=0.24 sec\n",
      " ARIMA(0,2,1)(0,0,0)[0] intercept   : AIC=-618.910, Time=0.18 sec\n",
      " ARIMA(0,2,0)(0,0,0)[0]             : AIC=-618.390, Time=0.02 sec\n",
      " ARIMA(1,2,1)(0,0,0)[0] intercept   : AIC=-616.949, Time=0.20 sec\n",
      " ARIMA(0,2,2)(0,0,0)[0] intercept   : AIC=-616.620, Time=0.20 sec\n",
      " ARIMA(1,2,2)(0,0,0)[0] intercept   : AIC=-614.791, Time=0.22 sec\n",
      " ARIMA(0,2,1)(0,0,0)[0]             : AIC=-620.310, Time=0.09 sec\n",
      " ARIMA(1,2,1)(0,0,0)[0]             : AIC=-618.383, Time=0.27 sec\n",
      " ARIMA(0,2,2)(0,0,0)[0]             : AIC=-618.073, Time=0.13 sec\n",
      " ARIMA(1,2,0)(0,0,0)[0]             : AIC=-619.278, Time=0.11 sec\n",
      " ARIMA(1,2,2)(0,0,0)[0]             : AIC=-616.108, Time=0.18 sec\n",
      "\n",
      "Best model:  ARIMA(0,2,1)(0,0,0)[0]          \n",
      "Total fit time: 2.031 seconds\n"
     ]
    },
    {
     "data": {
      "text/plain": [
       "ARIMA(order=(0, 2, 1), scoring_args={}, suppress_warnings=True,\n",
       "      with_intercept=False)"
      ]
     },
     "execution_count": 18,
     "metadata": {},
     "output_type": "execute_result"
    }
   ],
   "source": [
    "auto_arima(e_ori, start_p=0, d=2 ,start_q=0,\n",
    "           max_p=10, max_q=10, m=1, trace=True, stepwise=True, seasonal=False)"
   ]
  },
  {
   "cell_type": "code",
   "execution_count": 19,
   "metadata": {},
   "outputs": [
    {
     "data": {
      "text/plain": [
       "0.0018668344804598483"
      ]
     },
     "execution_count": 19,
     "metadata": {},
     "output_type": "execute_result"
    }
   ],
   "source": [
    "train_e_1, test_e_1 = train_test_split(e_ori, test_size=0.2, shuffle=False)\n",
    "train_e_2, test_e_2 = train_test_split(train_e_1, test_size=0.2, shuffle=False)\n",
    "train_e_3, test_e_3 = train_test_split(train_e_2, test_size=0.2, shuffle=False)\n",
    "rmse_e_1, test_data_e_1, prediction_test_e_1=calculate_rmse_for_cv(train_e_1, test_e_1,0,2,1)\n",
    "rmse_e_2, test_data_e_2, prediction_test_e_2=calculate_rmse_for_cv(train_e_2, test_e_2,0,2,1)\n",
    "rmse_e_3, test_data_e_3, prediction_test_e_3=calculate_rmse_for_cv(train_e_3, test_e_3,0,2,1)\n",
    "average_rmse_e=(rmse_e_1+rmse_e_2+rmse_e_3)/3\n",
    "average_rmse_e"
   ]
  },
  {
   "cell_type": "code",
   "execution_count": 20,
   "metadata": {},
   "outputs": [],
   "source": [
    "arima_model_e = ARIMA(e_ori, order=(0, 2, 1)).fit()\n",
    "prediction_e = arima_model_e.predict(\n",
    "    start=len(e_ori), end=len(e_ori)+len(test_data)-1)\n",
    "prediction_e = prediction_e.to_frame()\n",
    "prediction_e.rename(columns = {'predicted_mean':0}, inplace = True)\n",
    "final_e = pd.concat([e_ori, prediction_e])"
   ]
  },
  {
   "cell_type": "code",
   "execution_count": 21,
   "metadata": {},
   "outputs": [
    {
     "name": "stdout",
     "output_type": "stream",
     "text": [
      "Performing stepwise search to minimize aic\n",
      " ARIMA(0,1,0)(0,0,0)[0] intercept   : AIC=-472.451, Time=0.15 sec\n",
      " ARIMA(1,1,0)(0,0,0)[0] intercept   : AIC=-503.713, Time=0.06 sec\n",
      " ARIMA(0,1,1)(0,0,0)[0] intercept   : AIC=-496.202, Time=0.21 sec\n",
      " ARIMA(0,1,0)(0,0,0)[0]             : AIC=-372.031, Time=0.03 sec\n",
      " ARIMA(2,1,0)(0,0,0)[0] intercept   : AIC=-503.877, Time=0.14 sec\n",
      " ARIMA(3,1,0)(0,0,0)[0] intercept   : AIC=-502.041, Time=0.15 sec\n",
      " ARIMA(2,1,1)(0,0,0)[0] intercept   : AIC=-501.104, Time=0.09 sec\n",
      " ARIMA(1,1,1)(0,0,0)[0] intercept   : AIC=-503.614, Time=0.10 sec\n",
      " ARIMA(3,1,1)(0,0,0)[0] intercept   : AIC=-499.077, Time=0.22 sec\n",
      " ARIMA(2,1,0)(0,0,0)[0]             : AIC=-496.220, Time=0.05 sec\n",
      "\n",
      "Best model:  ARIMA(2,1,0)(0,0,0)[0] intercept\n",
      "Total fit time: 1.200 seconds\n"
     ]
    },
    {
     "data": {
      "text/plain": [
       "ARIMA(order=(2, 1, 0), scoring_args={}, suppress_warnings=True)"
      ]
     },
     "execution_count": 21,
     "metadata": {},
     "output_type": "execute_result"
    }
   ],
   "source": [
    "auto_arima(y_ori, start_p=0, d=1 ,start_q=0,\n",
    "           max_p=10, max_d=2, max_q=10, m=1, trace=True, stepwise=True, seasonal=False)"
   ]
  },
  {
   "cell_type": "code",
   "execution_count": 22,
   "metadata": {},
   "outputs": [
    {
     "data": {
      "text/plain": [
       "0.0030185150383896914"
      ]
     },
     "execution_count": 22,
     "metadata": {},
     "output_type": "execute_result"
    }
   ],
   "source": [
    "train_y_1, test_y_1 = train_test_split(y_ori, test_size=0.2, shuffle=False)\n",
    "train_y_2, test_y_2 = train_test_split(train_y_1, test_size=0.2, shuffle=False)\n",
    "train_y_3, test_y_3 = train_test_split(train_y_2, test_size=0.2, shuffle=False)\n",
    "rmse_y_1, test_data_y_1, prediction_test_y_1=calculate_rmse_for_cv(train_y_1, test_y_1, 2, 1, 0)\n",
    "rmse_y_2, test_data_y_2, prediction_test_y_2=calculate_rmse_for_cv(train_y_2, test_y_2, 2, 1, 0)\n",
    "rmse_y_3, test_data_y_3, prediction_test_y_3=calculate_rmse_for_cv(train_y_3, test_y_3, 2, 1, 0)\n",
    " \n",
    "average_rmse_y=(rmse_y_1+rmse_y_2+rmse_y_3)/3\n",
    "average_rmse_y"
   ]
  },
  {
   "cell_type": "code",
   "execution_count": 23,
   "metadata": {},
   "outputs": [],
   "source": [
    "arima_model_y = ARIMA(y_ori, order=(2, 1, 0)).fit()\n",
    "prediction_y = arima_model_y.predict(\n",
    "    start=len(y_ori), end=len(y_ori)+len(test_data)-1)\n",
    "prediction_y = prediction_y.to_frame()\n",
    "prediction_y.rename(columns = {'predicted_mean':0}, inplace = True)\n",
    "final_y = pd.concat([y_ori, prediction_y])"
   ]
  },
  {
   "cell_type": "code",
   "execution_count": 24,
   "metadata": {},
   "outputs": [
    {
     "name": "stdout",
     "output_type": "stream",
     "text": [
      "Performing stepwise search to minimize aic\n",
      " ARIMA(0,2,0)(0,0,0)[0] intercept   : AIC=-497.492, Time=0.08 sec\n",
      " ARIMA(1,2,0)(0,0,0)[0] intercept   : AIC=-495.780, Time=0.07 sec\n",
      " ARIMA(0,2,1)(0,0,0)[0] intercept   : AIC=-495.145, Time=0.07 sec\n",
      " ARIMA(0,2,0)(0,0,0)[0]             : AIC=-498.903, Time=0.02 sec\n",
      " ARIMA(1,2,1)(0,0,0)[0] intercept   : AIC=-493.117, Time=0.09 sec\n",
      "\n",
      "Best model:  ARIMA(0,2,0)(0,0,0)[0]          \n",
      "Total fit time: 0.330 seconds\n"
     ]
    },
    {
     "data": {
      "text/plain": [
       "ARIMA(order=(0, 2, 0), scoring_args={}, suppress_warnings=True,\n",
       "      with_intercept=False)"
      ]
     },
     "execution_count": 24,
     "metadata": {},
     "output_type": "execute_result"
    }
   ],
   "source": [
    "auto_arima(k_ori, start_p=0, d=2 ,start_q=0,\n",
    "           max_p=10, max_d=2, max_q=10, m=1, trace=True, stepwise=True, seasonal=False)"
   ]
  },
  {
   "cell_type": "code",
   "execution_count": 25,
   "metadata": {},
   "outputs": [
    {
     "data": {
      "text/plain": [
       "0.00314313693197048"
      ]
     },
     "execution_count": 25,
     "metadata": {},
     "output_type": "execute_result"
    }
   ],
   "source": [
    "train_k_1, test_k_1 = train_test_split(k_ori, test_size=0.2, shuffle=False)\n",
    "train_k_2, test_k_2 = train_test_split(train_k_1, test_size=0.2, shuffle=False)\n",
    "train_k_3, test_k_3 = train_test_split(train_k_2, test_size=0.2, shuffle=False)\n",
    "rmse_k_1, test_data_k_1, prediction_test_k_1=calculate_rmse_for_cv(train_k_1, test_k_1, 0, 2, 0)\n",
    "rmse_k_2, test_data_k_2, prediction_test_k_2=calculate_rmse_for_cv(train_k_2, test_k_2, 0, 2, 0)\n",
    "rmse_k_3, test_data_k_3, prediction_test_k_3=calculate_rmse_for_cv(train_k_3, test_k_3, 0, 2, 0)\n",
    " \n",
    "average_rmse_k=(rmse_k_1+rmse_k_2+rmse_k_3)/3\n",
    "average_rmse_k"
   ]
  },
  {
   "cell_type": "code",
   "execution_count": 26,
   "metadata": {},
   "outputs": [],
   "source": [
    "arima_model_k = ARIMA(k_ori, order=(0, 2, 0)).fit()\n",
    "prediction_k = arima_model_k.predict(\n",
    "    start=len(k_ori), end=len(k_ori)+len(test_data)-1)\n",
    "prediction_k = prediction_k.to_frame()\n",
    "prediction_k.rename(columns = {'predicted_mean':0}, inplace = True)\n",
    "final_k = pd.concat([k_ori, prediction_k])"
   ]
  },
  {
   "cell_type": "code",
   "execution_count": 27,
   "metadata": {},
   "outputs": [],
   "source": [
    "final_e.rename(columns = {0:'e'}, inplace = True)\n",
    "final_y.rename(columns = {0:'y'}, inplace = True)\n",
    "final_k.rename(columns = {0:'k'}, inplace = True)"
   ]
  },
  {
   "cell_type": "code",
   "execution_count": 28,
   "metadata": {},
   "outputs": [],
   "source": [
    "full = pd.concat([final_e, final_y,final_k],axis=1)"
   ]
  },
  {
   "cell_type": "code",
   "execution_count": 29,
   "metadata": {},
   "outputs": [],
   "source": [
    "data_proportion = closure(full)"
   ]
  },
  {
   "cell_type": "code",
   "execution_count": 30,
   "metadata": {},
   "outputs": [],
   "source": [
    "def set_col(df):\n",
    "    df = pd.DataFrame(df, columns=[\n",
    "    'elder', 'youth', 'kid'])\n",
    "    df['Year'] = df.index + 1964\n",
    "    df['Year'] = pd.to_datetime(df['Year'], format='%Y')\n",
    "    df = df.set_index(\"Year\")\n",
    "    return df"
   ]
  },
  {
   "cell_type": "code",
   "execution_count": 31,
   "metadata": {},
   "outputs": [],
   "source": [
    "proportion = set_col(data_proportion)\n"
   ]
  },
  {
   "cell_type": "code",
   "execution_count": 32,
   "metadata": {},
   "outputs": [],
   "source": [
    "df_actual=proportion[(proportion.index< '2010-01-01')]\n",
    "df_forecast=proportion[(proportion.index> '2009-01-01')]"
   ]
  },
  {
   "cell_type": "code",
   "execution_count": 33,
   "metadata": {},
   "outputs": [],
   "source": [
    "proportion_actual_1=pd.concat([test_data_e_1.to_frame(), test_data_y_1.to_frame(),  test_data_k_1.to_frame()],axis=1)\n",
    "proportion_actual_2=pd.concat([test_data_e_2.to_frame(), test_data_y_2.to_frame(), test_data_k_2.to_frame()],axis=1)\n",
    "proportion_actual_3=pd.concat([test_data_e_3.to_frame(), test_data_y_3.to_frame(), test_data_k_3.to_frame()],axis=1)\n",
    "proportion_forecast_1=closure(pd.concat([prediction_test_e_1.to_frame(), prediction_test_y_1.to_frame(), prediction_test_k_1.to_frame()],axis=1))\n",
    "proportion_forecast_2=closure(pd.concat([prediction_test_e_2.to_frame(), prediction_test_y_2.to_frame(),prediction_test_k_2.to_frame()],axis=1))\n",
    "proportion_forecast_3=closure(pd.concat([prediction_test_e_3.to_frame(), prediction_test_y_3.to_frame(),prediction_test_k_3.to_frame()],axis=1))"
   ]
  },
  {
   "cell_type": "code",
   "execution_count": 34,
   "metadata": {},
   "outputs": [
    {
     "data": {
      "text/plain": [
       "0.0029791632517698727"
      ]
     },
     "execution_count": 34,
     "metadata": {},
     "output_type": "execute_result"
    }
   ],
   "source": [
    "rmse1 = sqrt(mean_squared_error(proportion_actual_1, proportion_forecast_1))\n",
    "rmse2 = sqrt(mean_squared_error(proportion_actual_2, proportion_forecast_2))\n",
    "rmse3 = sqrt(mean_squared_error(proportion_actual_3, proportion_forecast_3))\n",
    "\n",
    "rmse_cv=(rmse1+rmse2+rmse3)/3\n",
    "rmse_cv"
   ]
  },
  {
   "cell_type": "code",
   "execution_count": 35,
   "metadata": {},
   "outputs": [
    {
     "data": {
      "text/plain": [
       "0.009235412959796033"
      ]
     },
     "execution_count": 35,
     "metadata": {},
     "output_type": "execute_result"
    }
   ],
   "source": [
    "rmse_final = sqrt(mean_squared_error(df_forecast, test_data))\n",
    "rmse_final"
   ]
  },
  {
   "cell_type": "code",
   "execution_count": 36,
   "metadata": {},
   "outputs": [],
   "source": [
    "df_forecast.to_csv(relative_path+\"\\\\age_structure_data\\\\auto_base_forecast.csv\")"
   ]
  },
  {
   "cell_type": "code",
   "execution_count": 37,
   "metadata": {},
   "outputs": [],
   "source": [
    "full['added_together']=full['e']+full['y']+full['k']"
   ]
  },
  {
   "cell_type": "code",
   "execution_count": 38,
   "metadata": {},
   "outputs": [
    {
     "data": {
      "text/html": [
       "<div>\n",
       "<style scoped>\n",
       "    .dataframe tbody tr th:only-of-type {\n",
       "        vertical-align: middle;\n",
       "    }\n",
       "\n",
       "    .dataframe tbody tr th {\n",
       "        vertical-align: top;\n",
       "    }\n",
       "\n",
       "    .dataframe thead th {\n",
       "        text-align: right;\n",
       "    }\n",
       "</style>\n",
       "<table border=\"1\" class=\"dataframe\">\n",
       "  <thead>\n",
       "    <tr style=\"text-align: right;\">\n",
       "      <th></th>\n",
       "      <th>e</th>\n",
       "      <th>y</th>\n",
       "      <th>k</th>\n",
       "      <th>added_together</th>\n",
       "    </tr>\n",
       "  </thead>\n",
       "  <tbody>\n",
       "    <tr>\n",
       "      <th>1964-01-01</th>\n",
       "      <td>0.032504</td>\n",
       "      <td>0.504384</td>\n",
       "      <td>0.463112</td>\n",
       "      <td>1.0</td>\n",
       "    </tr>\n",
       "    <tr>\n",
       "      <th>1965-01-01</th>\n",
       "      <td>0.031992</td>\n",
       "      <td>0.506028</td>\n",
       "      <td>0.461980</td>\n",
       "      <td>1.0</td>\n",
       "    </tr>\n",
       "    <tr>\n",
       "      <th>1966-01-01</th>\n",
       "      <td>0.032161</td>\n",
       "      <td>0.507334</td>\n",
       "      <td>0.460504</td>\n",
       "      <td>1.0</td>\n",
       "    </tr>\n",
       "    <tr>\n",
       "      <th>1967-01-01</th>\n",
       "      <td>0.032281</td>\n",
       "      <td>0.511010</td>\n",
       "      <td>0.456709</td>\n",
       "      <td>1.0</td>\n",
       "    </tr>\n",
       "    <tr>\n",
       "      <th>1968-01-01</th>\n",
       "      <td>0.032420</td>\n",
       "      <td>0.515973</td>\n",
       "      <td>0.451607</td>\n",
       "      <td>1.0</td>\n",
       "    </tr>\n",
       "  </tbody>\n",
       "</table>\n",
       "</div>"
      ],
      "text/plain": [
       "                   e         y         k  added_together\n",
       "1964-01-01  0.032504  0.504384  0.463112             1.0\n",
       "1965-01-01  0.031992  0.506028  0.461980             1.0\n",
       "1966-01-01  0.032161  0.507334  0.460504             1.0\n",
       "1967-01-01  0.032281  0.511010  0.456709             1.0\n",
       "1968-01-01  0.032420  0.515973  0.451607             1.0"
      ]
     },
     "execution_count": 38,
     "metadata": {},
     "output_type": "execute_result"
    }
   ],
   "source": [
    "full.head()"
   ]
  }
 ],
 "metadata": {
  "kernelspec": {
   "display_name": "base",
   "language": "python",
   "name": "python3"
  },
  "language_info": {
   "codemirror_mode": {
    "name": "ipython",
    "version": 3
   },
   "file_extension": ".py",
   "mimetype": "text/x-python",
   "name": "python",
   "nbconvert_exporter": "python",
   "pygments_lexer": "ipython3",
   "version": "3.9.13 (main, Aug 25 2022, 23:51:50) [MSC v.1916 64 bit (AMD64)]"
  },
  "orig_nbformat": 4,
  "vscode": {
   "interpreter": {
    "hash": "f08154012ddadd8e950e6e9e035c7a7b32c136e7647e9b7c77e02eb723a8bedb"
   }
  }
 },
 "nbformat": 4,
 "nbformat_minor": 2
}
