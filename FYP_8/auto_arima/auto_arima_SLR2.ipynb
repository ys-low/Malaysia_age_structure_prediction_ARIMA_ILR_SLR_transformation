{
 "cells": [
  {
   "cell_type": "code",
   "execution_count": 47,
   "metadata": {},
   "outputs": [],
   "source": [
    "from sklearn.model_selection import train_test_split\n",
    "import pandas as pd\n",
    "import matplotlib.pyplot as plt\n",
    "import numpy as np\n",
    "from statsmodels.tsa.arima.model import ARIMA\n",
    "import warnings\n",
    "warnings.filterwarnings(\"ignore\")\n",
    "import pmdarima\n",
    "from pmdarima import auto_arima\n",
    "from math import sqrt\n",
    "from sklearn.metrics import mean_squared_error\n",
    "from composition_stats import closure"
   ]
  },
  {
   "cell_type": "code",
   "execution_count": null,
   "metadata": {},
   "outputs": [],
   "source": [
    "import os \n",
    "  \n",
    "# current directory \n",
    "current_dir = os.getcwd() \n",
    "relative_path=os.path.abspath(os.path.join(current_dir, os.pardir))"
   ]
  },
  {
   "cell_type": "code",
   "execution_count": 48,
   "metadata": {},
   "outputs": [],
   "source": [
    "SLR_data = pd.DataFrame(pd.read_csv(\n",
    "    relative_path+\"\\\\age_structure_data\\\\SLR2_data.csv\"))"
   ]
  },
  {
   "cell_type": "code",
   "execution_count": 49,
   "metadata": {},
   "outputs": [],
   "source": [
    "SLR_data['Year'] = pd.to_datetime(SLR_data['Year'])\n",
    "SLR_data =SLR_data.set_index(\"Year\")"
   ]
  },
  {
   "cell_type": "code",
   "execution_count": 50,
   "metadata": {},
   "outputs": [],
   "source": [
    "test_data= pd.DataFrame(pd.read_csv(\n",
    "    relative_path+\"\\\\age_structure_data\\\\df_test.csv\"))\n",
    "test_data['Year'] = pd.to_datetime(test_data['Year'])\n",
    "test_data = test_data.set_index(\"Year\")"
   ]
  },
  {
   "cell_type": "code",
   "execution_count": 51,
   "metadata": {},
   "outputs": [],
   "source": [
    "SLR_1=SLR_data['log_ratio_1']\n",
    "SLR_2=SLR_data['log_ratio_2']\n"
   ]
  },
  {
   "cell_type": "code",
   "execution_count": 52,
   "metadata": {},
   "outputs": [],
   "source": [
    "def calculate_rmse_for_cv(train_data, test_data, a, b, c):\n",
    "    arima_model = ARIMA(train_data, order=(a, b, c)).fit()\n",
    "    prediction = arima_model.predict(\n",
    "        start=len(train_data), end=len(train_data)+len(test_data)-1)\n",
    "    rmse = sqrt(mean_squared_error(test_data, prediction))\n",
    "    return rmse, test_data, prediction"
   ]
  },
  {
   "attachments": {},
   "cell_type": "markdown",
   "metadata": {},
   "source": [
    "For SLR_1"
   ]
  },
  {
   "cell_type": "code",
   "execution_count": 53,
   "metadata": {},
   "outputs": [
    {
     "name": "stdout",
     "output_type": "stream",
     "text": [
      "Performing stepwise search to minimize aic\n",
      " ARIMA(0,2,0)(0,0,0)[0] intercept   : AIC=-389.623, Time=0.04 sec\n",
      " ARIMA(1,2,0)(0,0,0)[0] intercept   : AIC=-388.645, Time=0.07 sec\n",
      " ARIMA(0,2,1)(0,0,0)[0] intercept   : AIC=-389.163, Time=0.06 sec\n",
      " ARIMA(0,2,0)(0,0,0)[0]             : AIC=-391.183, Time=0.03 sec\n",
      " ARIMA(1,2,1)(0,0,0)[0] intercept   : AIC=-387.090, Time=0.08 sec\n",
      "\n",
      "Best model:  ARIMA(0,2,0)(0,0,0)[0]          \n",
      "Total fit time: 0.279 seconds\n"
     ]
    },
    {
     "data": {
      "text/plain": [
       "ARIMA(order=(0, 2, 0), scoring_args={}, suppress_warnings=True,\n",
       "      with_intercept=False)"
      ]
     },
     "execution_count": 53,
     "metadata": {},
     "output_type": "execute_result"
    }
   ],
   "source": [
    "auto_arima(SLR_1, start_p=0, d=2 ,start_q=0,\n",
    "           max_p=10, max_q=10, m=1, trace=True, stepwise=True, seasonal=False)"
   ]
  },
  {
   "cell_type": "code",
   "execution_count": 54,
   "metadata": {},
   "outputs": [
    {
     "data": {
      "text/plain": [
       "0.019191633226856755"
      ]
     },
     "execution_count": 54,
     "metadata": {},
     "output_type": "execute_result"
    }
   ],
   "source": [
    "train_e_1, test_e_1 = train_test_split(SLR_1, test_size=0.2, shuffle=False)\n",
    "train_e_2, test_e_2 = train_test_split(train_e_1, test_size=0.2, shuffle=False)\n",
    "train_e_3, test_e_3 = train_test_split(train_e_2, test_size=0.2, shuffle=False)\n",
    "rmse_e_1, test_data_e_1, prediction_test_e_1=calculate_rmse_for_cv(train_e_1, test_e_1,0,2,0)\n",
    "rmse_e_2, test_data_e_2, prediction_test_e_2=calculate_rmse_for_cv(train_e_2, test_e_2,0,2,0)\n",
    "rmse_e_3, test_data_e_3, prediction_test_e_3=calculate_rmse_for_cv(train_e_3, test_e_3,0,2,0)\n",
    "average_rmse_e=(rmse_e_1+rmse_e_2+rmse_e_3)/3\n",
    "average_rmse_e"
   ]
  },
  {
   "cell_type": "code",
   "execution_count": 55,
   "metadata": {},
   "outputs": [],
   "source": [
    "arima_model_e = ARIMA(SLR_1, order=(0, 2, 0)).fit()\n",
    "prediction_1 = arima_model_e.predict(\n",
    "    start=len(SLR_1), end=len(SLR_1)+len(test_data)-1)\n",
    "prediction_1 = prediction_1.to_frame()\n",
    "prediction_1.rename(columns = {'predicted_mean':0}, inplace = True)\n",
    "final_1 = pd.concat([SLR_1, prediction_1])"
   ]
  },
  {
   "attachments": {},
   "cell_type": "markdown",
   "metadata": {},
   "source": [
    "For Transfomed_SLR_2"
   ]
  },
  {
   "cell_type": "code",
   "execution_count": 56,
   "metadata": {},
   "outputs": [
    {
     "name": "stdout",
     "output_type": "stream",
     "text": [
      "Performing stepwise search to minimize aic\n",
      " ARIMA(0,2,0)(0,0,0)[0] intercept   : AIC=-404.556, Time=0.04 sec\n",
      " ARIMA(1,2,0)(0,0,0)[0] intercept   : AIC=-407.691, Time=0.06 sec\n",
      " ARIMA(0,2,1)(0,0,0)[0] intercept   : AIC=-407.870, Time=0.06 sec\n",
      " ARIMA(0,2,0)(0,0,0)[0]             : AIC=-404.815, Time=0.03 sec\n",
      " ARIMA(1,2,1)(0,0,0)[0] intercept   : AIC=-406.135, Time=0.03 sec\n",
      " ARIMA(0,2,2)(0,0,0)[0] intercept   : AIC=-406.045, Time=0.16 sec\n",
      " ARIMA(1,2,2)(0,0,0)[0] intercept   : AIC=-403.216, Time=0.10 sec\n",
      " ARIMA(0,2,1)(0,0,0)[0]             : AIC=-408.542, Time=0.02 sec\n",
      " ARIMA(1,2,1)(0,0,0)[0]             : AIC=-406.945, Time=0.07 sec\n",
      " ARIMA(0,2,2)(0,0,0)[0]             : AIC=-406.706, Time=0.05 sec\n",
      " ARIMA(1,2,0)(0,0,0)[0]             : AIC=-408.489, Time=0.07 sec\n",
      " ARIMA(1,2,2)(0,0,0)[0]             : AIC=-403.865, Time=0.05 sec\n",
      "\n",
      "Best model:  ARIMA(0,2,1)(0,0,0)[0]          \n",
      "Total fit time: 0.745 seconds\n"
     ]
    },
    {
     "data": {
      "text/plain": [
       "ARIMA(order=(0, 2, 1), scoring_args={}, suppress_warnings=True,\n",
       "      with_intercept=False)"
      ]
     },
     "execution_count": 56,
     "metadata": {},
     "output_type": "execute_result"
    }
   ],
   "source": [
    "auto_arima(SLR_2, start_p=0, d=2 ,start_q=0,\n",
    "           max_p=10, max_d=2, max_q=10, m=1, trace=True, stepwise=True, seasonal=False)"
   ]
  },
  {
   "cell_type": "code",
   "execution_count": 57,
   "metadata": {},
   "outputs": [
    {
     "data": {
      "text/plain": [
       "0.018605058811463782"
      ]
     },
     "execution_count": 57,
     "metadata": {},
     "output_type": "execute_result"
    }
   ],
   "source": [
    "train_y_1, test_y_1 = train_test_split(SLR_2, test_size=0.2, shuffle=False)\n",
    "train_y_2, test_y_2 = train_test_split(train_y_1, test_size=0.2, shuffle=False)\n",
    "train_y_3, test_y_3 = train_test_split(train_y_2, test_size=0.2, shuffle=False)\n",
    "rmse_y_1, test_data_y_1, prediction_test_y_1=calculate_rmse_for_cv(train_y_1, test_y_1, 0, 2, 1)\n",
    "rmse_y_2, test_data_y_2, prediction_test_y_2=calculate_rmse_for_cv(train_y_2, test_y_2, 0, 2, 1)\n",
    "rmse_y_3, test_data_y_3, prediction_test_y_3=calculate_rmse_for_cv(train_y_3, test_y_3, 0, 2, 1)\n",
    " \n",
    "average_rmse_y=(rmse_y_1+rmse_y_2+rmse_y_3)/3\n",
    "average_rmse_y"
   ]
  },
  {
   "cell_type": "code",
   "execution_count": 58,
   "metadata": {},
   "outputs": [],
   "source": [
    "arima_model_y = ARIMA(SLR_2, order=(0, 2, 1)).fit()\n",
    "prediction_2 = arima_model_y.predict(\n",
    "    start=len(SLR_2), end=len(SLR_2)+len(test_data)-1)\n",
    "prediction_2 = prediction_2.to_frame()\n",
    "prediction_2.rename(columns = {'predicted_mean':0}, inplace = True)\n",
    "final_2 = pd.concat([SLR_2, prediction_2])"
   ]
  },
  {
   "attachments": {},
   "cell_type": "markdown",
   "metadata": {},
   "source": [
    "Combine part"
   ]
  },
  {
   "cell_type": "code",
   "execution_count": 59,
   "metadata": {},
   "outputs": [],
   "source": [
    "final_1.rename(columns = {0:'log_ratio_1'}, inplace = True)\n",
    "final_2.rename(columns = {0:'log_ratio_2'}, inplace = True)"
   ]
  },
  {
   "cell_type": "code",
   "execution_count": 60,
   "metadata": {},
   "outputs": [],
   "source": [
    "def SLR_inv(df1,df2):\n",
    "    arr_1 = df1.to_numpy()\n",
    "    arr_2 = df2.to_numpy()\n",
    "    log_ratio_1 = pd.DataFrame(arr_1,columns=['log_ratio_1'])\n",
    "    log_ratio_2 = pd.DataFrame(arr_2,columns=['log_ratio_2'])\n",
    "    e2_arr=[]\n",
    "    y2_arr=[]\n",
    "    k2_arr=[]\n",
    "    for i in range(len(df1)):\n",
    "        A = log_ratio_1._get_value(i,0,takeable = True)\n",
    "        B = log_ratio_2._get_value(i,0,takeable = True)\n",
    "        e2_arr.append(1)\n",
    "        y2_arr.append(1/(10**A))\n",
    "        k2_arr.append(1/(10**B))\n",
    "    e_prepro = pd.DataFrame(e2_arr, columns=['e_prepro'])\n",
    "    y_prepro = pd.DataFrame(y2_arr, columns=['y_prepro'])\n",
    "    k_prepro = pd.DataFrame(k2_arr, columns=['k_prepro'])\n",
    "    prepro = pd.concat([e_prepro, y_prepro,k_prepro],axis=1)\n",
    "    data_proportion = closure(prepro)\n",
    "    return data_proportion\n",
    "\n"
   ]
  },
  {
   "cell_type": "code",
   "execution_count": 61,
   "metadata": {},
   "outputs": [],
   "source": [
    "data_proportion=SLR_inv(final_1,final_2)"
   ]
  },
  {
   "cell_type": "code",
   "execution_count": 62,
   "metadata": {},
   "outputs": [],
   "source": [
    "def set_col(df):\n",
    "    df = pd.DataFrame(df, columns=[\n",
    "    'elder', 'youth', 'kid'])\n",
    "    df['Year'] = df.index + 1964\n",
    "    df['Year'] = pd.to_datetime(df['Year'], format='%Y')\n",
    "    df = df.set_index(\"Year\")\n",
    "    return df"
   ]
  },
  {
   "cell_type": "code",
   "execution_count": 63,
   "metadata": {},
   "outputs": [],
   "source": [
    "proportion = set_col(data_proportion)"
   ]
  },
  {
   "cell_type": "code",
   "execution_count": 64,
   "metadata": {},
   "outputs": [],
   "source": [
    "df_actual=proportion[(proportion.index< '2010-01-01')]\n",
    "df_forecast=proportion[(proportion.index> '2009-01-01')]"
   ]
  },
  {
   "cell_type": "code",
   "execution_count": 65,
   "metadata": {},
   "outputs": [],
   "source": [
    "proportion_actual_1=SLR_inv(test_data_e_1, test_data_y_1)\n",
    "proportion_actual_2=SLR_inv(test_data_e_2, test_data_y_2)\n",
    "proportion_actual_3=SLR_inv(test_data_e_3, test_data_y_3)\n",
    "proportion_forecast_1=SLR_inv(prediction_test_e_1, prediction_test_y_1)\n",
    "proportion_forecast_2=SLR_inv(prediction_test_e_2, prediction_test_y_2)\n",
    "proportion_forecast_3=SLR_inv(prediction_test_e_3, prediction_test_y_3)"
   ]
  },
  {
   "cell_type": "code",
   "execution_count": 66,
   "metadata": {},
   "outputs": [
    {
     "data": {
      "text/plain": [
       "0.0024991151891256124"
      ]
     },
     "execution_count": 66,
     "metadata": {},
     "output_type": "execute_result"
    }
   ],
   "source": [
    "rmse1 = sqrt(mean_squared_error(proportion_actual_1, proportion_forecast_1))\n",
    "rmse2 = sqrt(mean_squared_error(proportion_actual_2, proportion_forecast_2))\n",
    "rmse3 = sqrt(mean_squared_error(proportion_actual_3, proportion_forecast_3))\n",
    "\n",
    "rmse_cv=(rmse1+rmse2+rmse3)/3\n",
    "rmse_cv"
   ]
  },
  {
   "cell_type": "code",
   "execution_count": 67,
   "metadata": {},
   "outputs": [
    {
     "data": {
      "text/plain": [
       "0.007732636596317151"
      ]
     },
     "execution_count": 67,
     "metadata": {},
     "output_type": "execute_result"
    }
   ],
   "source": [
    "rmse_final = sqrt(mean_squared_error(df_forecast, test_data))\n",
    "rmse_final"
   ]
  },
  {
   "cell_type": "code",
   "execution_count": 68,
   "metadata": {},
   "outputs": [],
   "source": [
    "df_forecast.to_csv(relative_path+\"\\\\age_structure_data\\\\auto_SLR2_forecast.csv\")"
   ]
  },
  {
   "cell_type": "code",
   "execution_count": 69,
   "metadata": {},
   "outputs": [
    {
     "data": {
      "text/plain": [
       "<function matplotlib.pyplot.show(close=None, block=None)>"
      ]
     },
     "execution_count": 69,
     "metadata": {},
     "output_type": "execute_result"
    },
    {
     "data": {
      "image/png": "[encoded data removed]",
      "text/plain": [
       "<Figure size 640x480 with 1 Axes>"
      ]
     },
     "metadata": {},
     "output_type": "display_data"
    }
   ],
   "source": [
    "plt.plot(df_actual['elder'],label=\"Elder\")\n",
    "plt.plot(df_actual['youth'],label=\"Youth\")\n",
    "plt.plot(df_actual['kid'],label=\"Kid\")\n",
    "plt.plot(df_forecast['elder'],label=\"Elder_forecast\")\n",
    "plt.plot(df_forecast['youth'],label=\"Youth_forecast\")\n",
    "plt.plot(df_forecast['kid'],label=\"Kid_forecast\")\n",
    "plt.plot(test_data['elder'],label=\"Elder_actual\")\n",
    "plt.plot(test_data['youth'],label=\"Youth_actual\")\n",
    "plt.plot(test_data['kid'],label=\"Kid_actual\")\n",
    "\n",
    "\n",
    "\n",
    "plt.legend(loc='best')\n",
    "plt.show"
   ]
  }
 ],
 "metadata": {
  "kernelspec": {
   "display_name": "base",
   "language": "python",
   "name": "python3"
  },
  "language_info": {
   "codemirror_mode": {
    "name": "ipython",
    "version": 3
   },
   "file_extension": ".py",
   "mimetype": "text/x-python",
   "name": "python",
   "nbconvert_exporter": "python",
   "pygments_lexer": "ipython3",
   "version": "3.9.13 (main, Aug 25 2022, 23:51:50) [MSC v.1916 64 bit (AMD64)]"
  },
  "orig_nbformat": 4,
  "vscode": {
   "interpreter": {
    "hash": "f08154012ddadd8e950e6e9e035c7a7b32c136e7647e9b7c77e02eb723a8bedb"
   }
  }
 },
 "nbformat": 4,
 "nbformat_minor": 2
}
