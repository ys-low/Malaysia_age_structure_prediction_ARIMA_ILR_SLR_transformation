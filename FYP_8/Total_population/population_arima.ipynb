{
 "cells": [
  {
   "cell_type": "code",
   "execution_count": 1,
   "metadata": {},
   "outputs": [],
   "source": [
    "import pandas as pd\n",
    "import matplotlib.pyplot as plt\n",
    "import numpy as np\n",
    "import seaborn as sns\n",
    "from sklearn.model_selection import train_test_split\n",
    "from statsmodels.tsa.stattools import adfuller\n",
    "from statsmodels.graphics.tsaplots import plot_acf, plot_pacf\n",
    "from statsmodels.tsa.arima.model import ARIMA\n",
    "import warnings\n",
    "from math import sqrt\n",
    "warnings.filterwarnings(\"ignore\")\n",
    "from sklearn.metrics import mean_squared_error"
   ]
  },
  {
   "cell_type": "code",
   "execution_count": 1,
   "metadata": {},
   "outputs": [],
   "source": [
    "import os \n",
    "  \n",
    "# current directory \n",
    "current_dir = os.getcwd() \n",
    "relative_path=os.path.abspath(os.path.join(current_dir, os.pardir))"
   ]
  },
  {
   "cell_type": "markdown",
   "metadata": {},
   "source": [
    "Read data"
   ]
  },
  {
   "cell_type": "code",
   "execution_count": 2,
   "metadata": {},
   "outputs": [],
   "source": [
    "df = pd.read_csv(\n",
    "    relative_path+\"\\\\age_structure_data\\\\WPP2022_Demographic_Indicators_Medium.csv\")"
   ]
  },
  {
   "cell_type": "code",
   "execution_count": 3,
   "metadata": {},
   "outputs": [],
   "source": [
    "df_population = pd.read_csv(\n",
    "    relative_path+\"\\\\age_structure_data\\\\df_full.csv\")"
   ]
  },
  {
   "cell_type": "code",
   "execution_count": 4,
   "metadata": {},
   "outputs": [],
   "source": [
    "df_population['Year'] = pd.to_datetime(df_population['Year'])\n",
    "df_population = df_population.set_index(\"Year\")"
   ]
  },
  {
   "cell_type": "code",
   "execution_count": 5,
   "metadata": {},
   "outputs": [],
   "source": [
    "df_population['all']=df_population['elder']+df_population['youth']+df_population['youth']"
   ]
  },
  {
   "cell_type": "code",
   "execution_count": 6,
   "metadata": {},
   "outputs": [],
   "source": [
    "df_real = df_population.loc[df_population.index > '2009-01-01']\n",
    "df_real=df_real['all']"
   ]
  },
  {
   "cell_type": "code",
   "execution_count": 7,
   "metadata": {},
   "outputs": [],
   "source": [
    "df_population = df_population.loc[df_population.index < '2010-01-01']\n"
   ]
  },
  {
   "cell_type": "code",
   "execution_count": 8,
   "metadata": {},
   "outputs": [],
   "source": [
    "df_population=df_population['all']"
   ]
  },
  {
   "cell_type": "markdown",
   "metadata": {},
   "source": [
    "Filter data, set index in datetime "
   ]
  },
  {
   "cell_type": "markdown",
   "metadata": {},
   "source": [
    "Stationary Check"
   ]
  },
  {
   "cell_type": "code",
   "execution_count": 9,
   "metadata": {},
   "outputs": [],
   "source": [
    "def stationary_test(df):\n",
    "   \n",
    "    # Check using adftest\n",
    "    result = adfuller(df)\n",
    "    print('p :', result[1])  # if p<0.05 and\n",
    "    # adf lower than critical values, reject null hypotheses, stationary\n",
    "    print('adf statistic :', result[0])\n",
    "    print('critical value :')\n",
    "    for key, value in result[4].items():\n",
    "        print(key, value)"
   ]
  },
  {
   "cell_type": "code",
   "execution_count": 10,
   "metadata": {},
   "outputs": [
    {
     "name": "stdout",
     "output_type": "stream",
     "text": [
      "p : 0.9988016476251742\n",
      "adf statistic : 2.1117264153580004\n",
      "critical value :\n",
      "1% -3.5925042342183704\n",
      "5% -2.931549768951162\n",
      "10% -2.60406594375338\n"
     ]
    }
   ],
   "source": [
    "df_population.dropna(inplace=True)\n",
    "stationary_test(df_population)"
   ]
  },
  {
   "cell_type": "code",
   "execution_count": 11,
   "metadata": {},
   "outputs": [
    {
     "name": "stdout",
     "output_type": "stream",
     "text": [
      "p : 0.8181245172813072\n",
      "adf statistic : -0.8033891005664915\n",
      "critical value :\n",
      "1% -3.5925042342183704\n",
      "5% -2.931549768951162\n",
      "10% -2.60406594375338\n"
     ]
    }
   ],
   "source": [
    "df_population_differenced = df_population-df_population.shift()\n",
    "df_population_differenced.dropna(inplace=True)\n",
    "stationary_test(df_population_differenced)"
   ]
  },
  {
   "cell_type": "code",
   "execution_count": 12,
   "metadata": {},
   "outputs": [
    {
     "name": "stdout",
     "output_type": "stream",
     "text": [
      "p : 6.982538976638411e-06\n",
      "adf statistic : -5.248844397245516\n",
      "critical value :\n",
      "1% -3.5925042342183704\n",
      "5% -2.931549768951162\n",
      "10% -2.60406594375338\n"
     ]
    }
   ],
   "source": [
    "df_population_differenced2 = df_population_differenced-df_population_differenced.shift()\n",
    "df_population_differenced2.dropna(inplace=True)\n",
    "stationary_test(df_population_differenced2)"
   ]
  },
  {
   "cell_type": "code",
   "execution_count": 13,
   "metadata": {},
   "outputs": [],
   "source": [
    "cv1_train_population, cv1_test_population = train_test_split(df_population, test_size=0.2, shuffle=False)\n",
    "cv2_train_population, cv2_test_population = train_test_split(cv1_train_population, test_size=0.2, shuffle=False)\n",
    "cv3_train_population, cv3_test_population = train_test_split(cv2_train_population, test_size=0.15, shuffle=False)"
   ]
  },
  {
   "cell_type": "code",
   "execution_count": 14,
   "metadata": {},
   "outputs": [],
   "source": [
    "def find_best_pdq(train_data, test_data):\n",
    "    df_search = pd.DataFrame()\n",
    "    for p in range(6):\n",
    "        for q in range(6):\n",
    "            arima_model = ARIMA(train_data, order=(p, 2, q)).fit()\n",
    "                # predict from the position of test data which is length of train data\n",
    "            prediction = arima_model.predict(start=len(train_data), end=len(train_data)+len(test_data)-1)\n",
    "            rmse = sqrt(mean_squared_error(test_data, prediction))\n",
    "            df_search = df_search.append({'pdq_paramters': str(p)+\" \"+\"2\"+\" \"+str(q), 'rmse': rmse}, ignore_index=True)\n",
    "    return df_search\n",
    "    #print(df_search.sort_values('rmse', ascending=True).head())\n",
    "    # print()"
   ]
  },
  {
   "cell_type": "code",
   "execution_count": 15,
   "metadata": {},
   "outputs": [
    {
     "data": {
      "text/html": [
       "<div>\n",
       "<style scoped>\n",
       "    .dataframe tbody tr th:only-of-type {\n",
       "        vertical-align: middle;\n",
       "    }\n",
       "\n",
       "    .dataframe tbody tr th {\n",
       "        vertical-align: top;\n",
       "    }\n",
       "\n",
       "    .dataframe thead th {\n",
       "        text-align: right;\n",
       "    }\n",
       "</style>\n",
       "<table border=\"1\" class=\"dataframe\">\n",
       "  <thead>\n",
       "    <tr style=\"text-align: right;\">\n",
       "      <th></th>\n",
       "      <th>rmse</th>\n",
       "    </tr>\n",
       "    <tr>\n",
       "      <th>pdq_paramters</th>\n",
       "      <th></th>\n",
       "    </tr>\n",
       "  </thead>\n",
       "  <tbody>\n",
       "    <tr>\n",
       "      <th>3 2 5</th>\n",
       "      <td>1.494844e+05</td>\n",
       "    </tr>\n",
       "    <tr>\n",
       "      <th>5 2 5</th>\n",
       "      <td>1.944671e+05</td>\n",
       "    </tr>\n",
       "    <tr>\n",
       "      <th>5 2 4</th>\n",
       "      <td>1.999555e+05</td>\n",
       "    </tr>\n",
       "    <tr>\n",
       "      <th>2 2 5</th>\n",
       "      <td>2.107421e+05</td>\n",
       "    </tr>\n",
       "    <tr>\n",
       "      <th>2 2 4</th>\n",
       "      <td>2.463026e+05</td>\n",
       "    </tr>\n",
       "    <tr>\n",
       "      <th>5 2 0</th>\n",
       "      <td>2.464555e+05</td>\n",
       "    </tr>\n",
       "    <tr>\n",
       "      <th>5 2 2</th>\n",
       "      <td>2.464778e+05</td>\n",
       "    </tr>\n",
       "    <tr>\n",
       "      <th>1 2 0</th>\n",
       "      <td>2.464982e+05</td>\n",
       "    </tr>\n",
       "    <tr>\n",
       "      <th>0 2 1</th>\n",
       "      <td>2.464986e+05</td>\n",
       "    </tr>\n",
       "    <tr>\n",
       "      <th>0 2 0</th>\n",
       "      <td>2.465682e+05</td>\n",
       "    </tr>\n",
       "    <tr>\n",
       "      <th>0 2 5</th>\n",
       "      <td>2.466052e+05</td>\n",
       "    </tr>\n",
       "    <tr>\n",
       "      <th>2 2 0</th>\n",
       "      <td>2.473929e+05</td>\n",
       "    </tr>\n",
       "    <tr>\n",
       "      <th>2 2 2</th>\n",
       "      <td>2.474093e+05</td>\n",
       "    </tr>\n",
       "    <tr>\n",
       "      <th>0 2 2</th>\n",
       "      <td>2.474231e+05</td>\n",
       "    </tr>\n",
       "    <tr>\n",
       "      <th>4 2 1</th>\n",
       "      <td>2.480175e+05</td>\n",
       "    </tr>\n",
       "    <tr>\n",
       "      <th>4 2 0</th>\n",
       "      <td>2.482808e+05</td>\n",
       "    </tr>\n",
       "    <tr>\n",
       "      <th>4 2 2</th>\n",
       "      <td>2.483281e+05</td>\n",
       "    </tr>\n",
       "    <tr>\n",
       "      <th>3 2 0</th>\n",
       "      <td>2.484847e+05</td>\n",
       "    </tr>\n",
       "    <tr>\n",
       "      <th>3 2 2</th>\n",
       "      <td>2.485295e+05</td>\n",
       "    </tr>\n",
       "    <tr>\n",
       "      <th>3 2 1</th>\n",
       "      <td>2.488817e+05</td>\n",
       "    </tr>\n",
       "    <tr>\n",
       "      <th>3 2 3</th>\n",
       "      <td>2.498628e+05</td>\n",
       "    </tr>\n",
       "    <tr>\n",
       "      <th>2 2 3</th>\n",
       "      <td>2.503239e+05</td>\n",
       "    </tr>\n",
       "    <tr>\n",
       "      <th>5 2 3</th>\n",
       "      <td>2.507607e+05</td>\n",
       "    </tr>\n",
       "    <tr>\n",
       "      <th>5 2 1</th>\n",
       "      <td>2.514261e+05</td>\n",
       "    </tr>\n",
       "    <tr>\n",
       "      <th>2 2 1</th>\n",
       "      <td>2.522525e+05</td>\n",
       "    </tr>\n",
       "    <tr>\n",
       "      <th>1 2 3</th>\n",
       "      <td>2.532008e+05</td>\n",
       "    </tr>\n",
       "    <tr>\n",
       "      <th>1 2 4</th>\n",
       "      <td>2.532657e+05</td>\n",
       "    </tr>\n",
       "    <tr>\n",
       "      <th>1 2 2</th>\n",
       "      <td>2.533677e+05</td>\n",
       "    </tr>\n",
       "    <tr>\n",
       "      <th>4 2 3</th>\n",
       "      <td>2.576647e+05</td>\n",
       "    </tr>\n",
       "    <tr>\n",
       "      <th>3 2 4</th>\n",
       "      <td>2.645795e+05</td>\n",
       "    </tr>\n",
       "    <tr>\n",
       "      <th>4 2 4</th>\n",
       "      <td>2.793686e+05</td>\n",
       "    </tr>\n",
       "    <tr>\n",
       "      <th>1 2 5</th>\n",
       "      <td>2.832183e+05</td>\n",
       "    </tr>\n",
       "    <tr>\n",
       "      <th>1 2 1</th>\n",
       "      <td>3.028209e+05</td>\n",
       "    </tr>\n",
       "    <tr>\n",
       "      <th>4 2 5</th>\n",
       "      <td>3.606054e+05</td>\n",
       "    </tr>\n",
       "    <tr>\n",
       "      <th>0 2 4</th>\n",
       "      <td>5.079606e+05</td>\n",
       "    </tr>\n",
       "    <tr>\n",
       "      <th>0 2 3</th>\n",
       "      <td>1.166194e+06</td>\n",
       "    </tr>\n",
       "  </tbody>\n",
       "</table>\n",
       "</div>"
      ],
      "text/plain": [
       "                       rmse\n",
       "pdq_paramters              \n",
       "3 2 5          1.494844e+05\n",
       "5 2 5          1.944671e+05\n",
       "5 2 4          1.999555e+05\n",
       "2 2 5          2.107421e+05\n",
       "2 2 4          2.463026e+05\n",
       "5 2 0          2.464555e+05\n",
       "5 2 2          2.464778e+05\n",
       "1 2 0          2.464982e+05\n",
       "0 2 1          2.464986e+05\n",
       "0 2 0          2.465682e+05\n",
       "0 2 5          2.466052e+05\n",
       "2 2 0          2.473929e+05\n",
       "2 2 2          2.474093e+05\n",
       "0 2 2          2.474231e+05\n",
       "4 2 1          2.480175e+05\n",
       "4 2 0          2.482808e+05\n",
       "4 2 2          2.483281e+05\n",
       "3 2 0          2.484847e+05\n",
       "3 2 2          2.485295e+05\n",
       "3 2 1          2.488817e+05\n",
       "3 2 3          2.498628e+05\n",
       "2 2 3          2.503239e+05\n",
       "5 2 3          2.507607e+05\n",
       "5 2 1          2.514261e+05\n",
       "2 2 1          2.522525e+05\n",
       "1 2 3          2.532008e+05\n",
       "1 2 4          2.532657e+05\n",
       "1 2 2          2.533677e+05\n",
       "4 2 3          2.576647e+05\n",
       "3 2 4          2.645795e+05\n",
       "4 2 4          2.793686e+05\n",
       "1 2 5          2.832183e+05\n",
       "1 2 1          3.028209e+05\n",
       "4 2 5          3.606054e+05\n",
       "0 2 4          5.079606e+05\n",
       "0 2 3          1.166194e+06"
      ]
     },
     "execution_count": 15,
     "metadata": {},
     "output_type": "execute_result"
    }
   ],
   "source": [
    "df_cv1=find_best_pdq(cv1_train_population, cv1_test_population)\n",
    "df_cv2=find_best_pdq(cv2_train_population, cv2_test_population)\n",
    "df_cv3=find_best_pdq(cv3_train_population, cv3_test_population)\n",
    "\n",
    "concatenated = pd.concat([df_cv1, df_cv2, df_cv3])\n",
    "concatenated=concatenated.groupby('pdq_paramters').mean()\n",
    "concatenated.sort_values('rmse', ascending=True)"
   ]
  },
  {
   "cell_type": "code",
   "execution_count": 16,
   "metadata": {},
   "outputs": [],
   "source": [
    "population_arima_model = ARIMA(df_population, order=(3, 2, 5)).fit()\n",
    "population_prediction = population_arima_model.predict(\n",
    "    start=len(df_population), end=len(df_population)+11)\n"
   ]
  },
  {
   "cell_type": "code",
   "execution_count": 17,
   "metadata": {},
   "outputs": [],
   "source": [
    "\n",
    "population_prediction = population_prediction.to_frame()\n",
    "population_prediction.rename(columns = {'predicted_mean':'all'}, inplace = True)\n",
    "population_prediction.index = pd.to_datetime(population_prediction.index)"
   ]
  },
  {
   "cell_type": "code",
   "execution_count": 18,
   "metadata": {},
   "outputs": [],
   "source": [
    "df_population=df_population.to_frame()\n",
    "df_population.index = pd.to_datetime(df_population.index)"
   ]
  },
  {
   "cell_type": "code",
   "execution_count": 19,
   "metadata": {},
   "outputs": [],
   "source": [
    "population_final = pd.concat([df_population, population_prediction])"
   ]
  },
  {
   "cell_type": "code",
   "execution_count": 20,
   "metadata": {},
   "outputs": [
    {
     "data": {
      "text/plain": [
       "<function matplotlib.pyplot.show(close=None, block=None)>"
      ]
     },
     "execution_count": 20,
     "metadata": {},
     "output_type": "execute_result"
    },
    {
     "data": {
      "image/png": "[encoded data removed]",
      "text/plain": [
       "<Figure size 640x480 with 1 Axes>"
      ]
     },
     "metadata": {},
     "output_type": "display_data"
    }
   ],
   "source": [
    "plt.plot(df_population,label=\"population_real\")\n",
    "\n",
    "plt.plot(population_prediction,label=\"population_forecast\")\n",
    "plt.plot(df_real,label=\"population_real_2\")\n",
    "plt.legend(loc='best')\n",
    "plt.show"
   ]
  },
  {
   "cell_type": "code",
   "execution_count": 21,
   "metadata": {},
   "outputs": [],
   "source": [
    "population_final.to_csv(relative_path+\"\\\\age_structure_data\\\\population_with_forecast.csv\")"
   ]
  },
  {
   "cell_type": "code",
   "execution_count": null,
   "metadata": {},
   "outputs": [],
   "source": []
  }
 ],
 "metadata": {
  "kernelspec": {
   "display_name": "Python 3.9.13 ('base')",
   "language": "python",
   "name": "python3"
  },
  "language_info": {
   "codemirror_mode": {
    "name": "ipython",
    "version": 3
   },
   "file_extension": ".py",
   "mimetype": "text/x-python",
   "name": "python",
   "nbconvert_exporter": "python",
   "pygments_lexer": "ipython3",
   "version": "3.9.13 (main, Aug 25 2022, 23:51:50) [MSC v.1916 64 bit (AMD64)]"
  },
  "orig_nbformat": 4,
  "vscode": {
   "interpreter": {
    "hash": "f08154012ddadd8e950e6e9e035c7a7b32c136e7647e9b7c77e02eb723a8bedb"
   }
  }
 },
 "nbformat": 4,
 "nbformat_minor": 2
}
