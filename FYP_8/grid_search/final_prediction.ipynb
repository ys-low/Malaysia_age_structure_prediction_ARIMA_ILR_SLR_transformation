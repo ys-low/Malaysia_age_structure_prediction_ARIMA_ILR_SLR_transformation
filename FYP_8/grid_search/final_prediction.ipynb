{
 "cells": [
  {
   "cell_type": "code",
   "execution_count": 1,
   "metadata": {},
   "outputs": [],
   "source": [
    "import pandas as pd\n",
    "import matplotlib.pyplot as plt\n",
    "import numpy as np\n",
    "from statsmodels.tsa.arima.model import ARIMA\n",
    "import pmdarima\n",
    "from composition_stats import closure\n",
    "import warnings\n",
    "warnings.filterwarnings(\"ignore\")"
   ]
  },
  {
   "cell_type": "code",
   "execution_count": 2,
   "metadata": {},
   "outputs": [],
   "source": [
    "import os \n",
    "  \n",
    "# current directory \n",
    "current_dir = os.getcwd() \n",
    "relative_path=os.path.abspath(os.path.join(current_dir, os.pardir))"
   ]
  },
  {
   "cell_type": "code",
   "execution_count": 3,
   "metadata": {},
   "outputs": [],
   "source": [
    "SLR_data = pd.DataFrame(pd.read_csv(\n",
    "    relative_path+\"\\\\age_structure_data\\\\SLR2_full_data.csv\"))\n",
    "SLR_data['Year'] = pd.to_datetime(SLR_data['Year'])\n",
    "SLR_data =SLR_data.set_index(\"Year\")"
   ]
  },
  {
   "cell_type": "markdown",
   "metadata": {},
   "source": []
  },
  {
   "cell_type": "code",
   "execution_count": 5,
   "metadata": {},
   "outputs": [],
   "source": [
    "SLR_1=SLR_data['log_ratio_1']\n",
    "SLR_2=SLR_data['log_ratio_2']"
   ]
  },
  {
   "cell_type": "code",
   "execution_count": 6,
   "metadata": {},
   "outputs": [],
   "source": [
    "arima_model_1 = ARIMA(SLR_1, order=(2, 2, 2)).fit()\n",
    "prediction_1 = arima_model_1.predict(\n",
    "    start=len(SLR_1), end=len(SLR_1)+19)\n",
    "prediction_1 = prediction_1.to_frame()\n",
    "prediction_1.rename(columns = {'predicted_mean':0}, inplace = True)\n",
    "final_1 = pd.concat([SLR_1, prediction_1])"
   ]
  },
  {
   "cell_type": "code",
   "execution_count": 7,
   "metadata": {},
   "outputs": [],
   "source": [
    "arima_model_2 = ARIMA(SLR_2, order=(3,2, 4)).fit()\n",
    "prediction_2 = arima_model_2.predict(\n",
    "    start=len(SLR_2), end=len(SLR_2)+19)\n",
    "prediction_2 = prediction_2.to_frame()\n",
    "prediction_2.rename(columns = {'predicted_mean':0}, inplace = True)\n",
    "final_2 = pd.concat([SLR_2, prediction_2])"
   ]
  },
  {
   "cell_type": "code",
   "execution_count": 8,
   "metadata": {},
   "outputs": [],
   "source": [
    "final_1.rename(columns = {0:'log_ratio_1'}, inplace = True)\n",
    "final_2.rename(columns = {0:'log_ratio_2'}, inplace = True)"
   ]
  },
  {
   "cell_type": "code",
   "execution_count": 9,
   "metadata": {},
   "outputs": [],
   "source": [
    "def SLR2_inv(df1,df2):\n",
    "    arr_1 = df1.to_numpy()\n",
    "    arr_2 = df2.to_numpy()\n",
    "    log_ratio_1 = pd.DataFrame(arr_1,columns=['log_ratio_1'])\n",
    "    log_ratio_2 = pd.DataFrame(arr_2,columns=['log_ratio_2'])\n",
    "    e2_arr=[]\n",
    "    y2_arr=[]\n",
    "    k2_arr=[]\n",
    "    for i in range(len(df1)):\n",
    "        A = log_ratio_1._get_value(i,0,takeable = True)\n",
    "        B = log_ratio_2._get_value(i,0,takeable = True)\n",
    "        e2_arr.append(1)\n",
    "        y2_arr.append(1/(10**A))\n",
    "        k2_arr.append(1/(10**B))\n",
    "    e_prepro = pd.DataFrame(e2_arr, columns=['e_prepro'])\n",
    "    y_prepro = pd.DataFrame(y2_arr, columns=['y_prepro'])\n",
    "    k_prepro = pd.DataFrame(k2_arr, columns=['k_prepro'])\n",
    "    prepro = pd.concat([e_prepro, y_prepro,k_prepro],axis=1)\n",
    "    data_proportion = closure(prepro)\n",
    "    return data_proportion"
   ]
  },
  {
   "cell_type": "code",
   "execution_count": 10,
   "metadata": {},
   "outputs": [],
   "source": [
    "data_proportion=SLR2_inv(final_1,final_2)"
   ]
  },
  {
   "cell_type": "code",
   "execution_count": 11,
   "metadata": {},
   "outputs": [],
   "source": [
    "def set_col(df):\n",
    "    df = pd.DataFrame(df, columns=[\n",
    "    'elder', 'youth', 'kid'])\n",
    "    df['Year'] = df.index + 1964\n",
    "    df['Year'] = pd.to_datetime(df['Year'], format='%Y')\n",
    "    df = df.set_index(\"Year\")\n",
    "    return df"
   ]
  },
  {
   "cell_type": "code",
   "execution_count": 12,
   "metadata": {},
   "outputs": [],
   "source": [
    "proportion = set_col(data_proportion)"
   ]
  },
  {
   "cell_type": "code",
   "execution_count": 13,
   "metadata": {},
   "outputs": [
    {
     "data": {
      "text/html": [
       "<div>\n",
       "<style scoped>\n",
       "    .dataframe tbody tr th:only-of-type {\n",
       "        vertical-align: middle;\n",
       "    }\n",
       "\n",
       "    .dataframe tbody tr th {\n",
       "        vertical-align: top;\n",
       "    }\n",
       "\n",
       "    .dataframe thead th {\n",
       "        text-align: right;\n",
       "    }\n",
       "</style>\n",
       "<table border=\"1\" class=\"dataframe\">\n",
       "  <thead>\n",
       "    <tr style=\"text-align: right;\">\n",
       "      <th></th>\n",
       "      <th>elder</th>\n",
       "      <th>youth</th>\n",
       "      <th>kid</th>\n",
       "    </tr>\n",
       "    <tr>\n",
       "      <th>Year</th>\n",
       "      <th></th>\n",
       "      <th></th>\n",
       "      <th></th>\n",
       "    </tr>\n",
       "  </thead>\n",
       "  <tbody>\n",
       "    <tr>\n",
       "      <th>1964-01-01</th>\n",
       "      <td>0.032504</td>\n",
       "      <td>0.504384</td>\n",
       "      <td>0.463112</td>\n",
       "    </tr>\n",
       "    <tr>\n",
       "      <th>1965-01-01</th>\n",
       "      <td>0.031992</td>\n",
       "      <td>0.506028</td>\n",
       "      <td>0.461980</td>\n",
       "    </tr>\n",
       "    <tr>\n",
       "      <th>1966-01-01</th>\n",
       "      <td>0.032161</td>\n",
       "      <td>0.507334</td>\n",
       "      <td>0.460504</td>\n",
       "    </tr>\n",
       "    <tr>\n",
       "      <th>1967-01-01</th>\n",
       "      <td>0.032281</td>\n",
       "      <td>0.511010</td>\n",
       "      <td>0.456709</td>\n",
       "    </tr>\n",
       "    <tr>\n",
       "      <th>1968-01-01</th>\n",
       "      <td>0.032420</td>\n",
       "      <td>0.515973</td>\n",
       "      <td>0.451607</td>\n",
       "    </tr>\n",
       "    <tr>\n",
       "      <th>...</th>\n",
       "      <td>...</td>\n",
       "      <td>...</td>\n",
       "      <td>...</td>\n",
       "    </tr>\n",
       "    <tr>\n",
       "      <th>2037-01-01</th>\n",
       "      <td>0.130523</td>\n",
       "      <td>0.663873</td>\n",
       "      <td>0.205605</td>\n",
       "    </tr>\n",
       "    <tr>\n",
       "      <th>2038-01-01</th>\n",
       "      <td>0.135008</td>\n",
       "      <td>0.661306</td>\n",
       "      <td>0.203686</td>\n",
       "    </tr>\n",
       "    <tr>\n",
       "      <th>2039-01-01</th>\n",
       "      <td>0.139580</td>\n",
       "      <td>0.658644</td>\n",
       "      <td>0.201776</td>\n",
       "    </tr>\n",
       "    <tr>\n",
       "      <th>2040-01-01</th>\n",
       "      <td>0.144279</td>\n",
       "      <td>0.655809</td>\n",
       "      <td>0.199912</td>\n",
       "    </tr>\n",
       "    <tr>\n",
       "      <th>2041-01-01</th>\n",
       "      <td>0.149151</td>\n",
       "      <td>0.652799</td>\n",
       "      <td>0.198050</td>\n",
       "    </tr>\n",
       "  </tbody>\n",
       "</table>\n",
       "<p>78 rows × 3 columns</p>\n",
       "</div>"
      ],
      "text/plain": [
       "               elder     youth       kid\n",
       "Year                                    \n",
       "1964-01-01  0.032504  0.504384  0.463112\n",
       "1965-01-01  0.031992  0.506028  0.461980\n",
       "1966-01-01  0.032161  0.507334  0.460504\n",
       "1967-01-01  0.032281  0.511010  0.456709\n",
       "1968-01-01  0.032420  0.515973  0.451607\n",
       "...              ...       ...       ...\n",
       "2037-01-01  0.130523  0.663873  0.205605\n",
       "2038-01-01  0.135008  0.661306  0.203686\n",
       "2039-01-01  0.139580  0.658644  0.201776\n",
       "2040-01-01  0.144279  0.655809  0.199912\n",
       "2041-01-01  0.149151  0.652799  0.198050\n",
       "\n",
       "[78 rows x 3 columns]"
      ]
     },
     "execution_count": 13,
     "metadata": {},
     "output_type": "execute_result"
    }
   ],
   "source": [
    "proportion"
   ]
  },
  {
   "cell_type": "code",
   "execution_count": 14,
   "metadata": {},
   "outputs": [],
   "source": [
    "proportion.to_csv(relative_path+\"\\\\age_structure_data\\\\proportion_full.csv\")"
   ]
  },
  {
   "cell_type": "code",
   "execution_count": 15,
   "metadata": {},
   "outputs": [
    {
     "data": {
      "text/plain": [
       "<function matplotlib.pyplot.show(close=None, block=None)>"
      ]
     },
     "execution_count": 15,
     "metadata": {},
     "output_type": "execute_result"
    },
    {
     "data": {
      "image/png": "[encoded data removed]",
      "text/plain": [
       "<Figure size 640x480 with 1 Axes>"
      ]
     },
     "metadata": {},
     "output_type": "display_data"
    }
   ],
   "source": [
    "plt.plot(proportion['elder'],label=\"Elder\")\n",
    "plt.plot(proportion['youth'],label=\"Youth\")\n",
    "plt.plot(proportion['kid'],label=\"Kid\")\n",
    "plt.legend(loc='best')\n",
    "plt.show"
   ]
  },
  {
   "cell_type": "code",
   "execution_count": 16,
   "metadata": {},
   "outputs": [],
   "source": [
    "proportion_predicted=proportion[(proportion.index> '2020-01-01')]"
   ]
  },
  {
   "cell_type": "code",
   "execution_count": 17,
   "metadata": {},
   "outputs": [],
   "source": [
    "total_pop = pd.DataFrame(pd.read_csv(\n",
    "    relative_path+\"\\\\age_structure_data\\\\population_forecast.csv\",index_col=[0]))"
   ]
  },
  {
   "cell_type": "code",
   "execution_count": 18,
   "metadata": {},
   "outputs": [],
   "source": [
    "total_pop.index = pd.to_datetime(total_pop.index)"
   ]
  },
  {
   "cell_type": "code",
   "execution_count": 19,
   "metadata": {},
   "outputs": [],
   "source": [
    "cal_pop = pd.concat([proportion, total_pop],axis=1)"
   ]
  },
  {
   "cell_type": "code",
   "execution_count": 20,
   "metadata": {},
   "outputs": [],
   "source": [
    "cal_pop=cal_pop[(cal_pop.index> '2021-01-01')]"
   ]
  },
  {
   "cell_type": "code",
   "execution_count": 21,
   "metadata": {},
   "outputs": [],
   "source": [
    "cal_pop['elder_num']=cal_pop['elder']*cal_pop['all']\n",
    "cal_pop['youth_num']=cal_pop['youth']*cal_pop['all']\n",
    "cal_pop['kid_num']=cal_pop['kid']*cal_pop['all']"
   ]
  },
  {
   "cell_type": "code",
   "execution_count": 22,
   "metadata": {},
   "outputs": [
    {
     "data": {
      "text/plain": [
       "11697750"
      ]
     },
     "execution_count": 22,
     "metadata": {},
     "output_type": "execute_result"
    }
   ],
   "source": [
    "int(1.169775e+07)"
   ]
  },
  {
   "cell_type": "code",
   "execution_count": 23,
   "metadata": {},
   "outputs": [
    {
     "data": {
      "text/html": [
       "<div>\n",
       "<style scoped>\n",
       "    .dataframe tbody tr th:only-of-type {\n",
       "        vertical-align: middle;\n",
       "    }\n",
       "\n",
       "    .dataframe tbody tr th {\n",
       "        vertical-align: top;\n",
       "    }\n",
       "\n",
       "    .dataframe thead th {\n",
       "        text-align: right;\n",
       "    }\n",
       "</style>\n",
       "<table border=\"1\" class=\"dataframe\">\n",
       "  <thead>\n",
       "    <tr style=\"text-align: right;\">\n",
       "      <th></th>\n",
       "      <th>elder</th>\n",
       "      <th>youth</th>\n",
       "      <th>kid</th>\n",
       "      <th>all</th>\n",
       "      <th>elder_num</th>\n",
       "      <th>youth_num</th>\n",
       "      <th>kid_num</th>\n",
       "    </tr>\n",
       "  </thead>\n",
       "  <tbody>\n",
       "    <tr>\n",
       "      <th>2022-01-01</th>\n",
       "      <td>0.077170</td>\n",
       "      <td>0.692053</td>\n",
       "      <td>0.230777</td>\n",
       "      <td>4.849272e+07</td>\n",
       "      <td>3.742197e+06</td>\n",
       "      <td>3.355951e+07</td>\n",
       "      <td>1.119101e+07</td>\n",
       "    </tr>\n",
       "    <tr>\n",
       "      <th>2023-01-01</th>\n",
       "      <td>0.080005</td>\n",
       "      <td>0.690888</td>\n",
       "      <td>0.229107</td>\n",
       "      <td>4.912590e+07</td>\n",
       "      <td>3.930311e+06</td>\n",
       "      <td>3.394048e+07</td>\n",
       "      <td>1.125511e+07</td>\n",
       "    </tr>\n",
       "    <tr>\n",
       "      <th>2024-01-01</th>\n",
       "      <td>0.082947</td>\n",
       "      <td>0.689293</td>\n",
       "      <td>0.227760</td>\n",
       "      <td>4.975940e+07</td>\n",
       "      <td>4.127387e+06</td>\n",
       "      <td>3.429881e+07</td>\n",
       "      <td>1.133321e+07</td>\n",
       "    </tr>\n",
       "    <tr>\n",
       "      <th>2025-01-01</th>\n",
       "      <td>0.085979</td>\n",
       "      <td>0.687602</td>\n",
       "      <td>0.226418</td>\n",
       "      <td>5.039311e+07</td>\n",
       "      <td>4.332764e+06</td>\n",
       "      <td>3.465042e+07</td>\n",
       "      <td>1.140992e+07</td>\n",
       "    </tr>\n",
       "    <tr>\n",
       "      <th>2026-01-01</th>\n",
       "      <td>0.089090</td>\n",
       "      <td>0.686128</td>\n",
       "      <td>0.224782</td>\n",
       "      <td>5.102696e+07</td>\n",
       "      <td>4.546003e+06</td>\n",
       "      <td>3.501100e+07</td>\n",
       "      <td>1.146996e+07</td>\n",
       "    </tr>\n",
       "    <tr>\n",
       "      <th>2027-01-01</th>\n",
       "      <td>0.092283</td>\n",
       "      <td>0.684821</td>\n",
       "      <td>0.222897</td>\n",
       "      <td>5.166091e+07</td>\n",
       "      <td>4.767405e+06</td>\n",
       "      <td>3.537845e+07</td>\n",
       "      <td>1.151505e+07</td>\n",
       "    </tr>\n",
       "    <tr>\n",
       "      <th>2028-01-01</th>\n",
       "      <td>0.095575</td>\n",
       "      <td>0.683360</td>\n",
       "      <td>0.221065</td>\n",
       "      <td>5.229490e+07</td>\n",
       "      <td>4.998070e+06</td>\n",
       "      <td>3.573627e+07</td>\n",
       "      <td>1.156056e+07</td>\n",
       "    </tr>\n",
       "    <tr>\n",
       "      <th>2029-01-01</th>\n",
       "      <td>0.098991</td>\n",
       "      <td>0.681540</td>\n",
       "      <td>0.219469</td>\n",
       "      <td>5.292889e+07</td>\n",
       "      <td>5.239481e+06</td>\n",
       "      <td>3.607317e+07</td>\n",
       "      <td>1.161623e+07</td>\n",
       "    </tr>\n",
       "    <tr>\n",
       "      <th>2030-01-01</th>\n",
       "      <td>0.102543</td>\n",
       "      <td>0.679473</td>\n",
       "      <td>0.217984</td>\n",
       "      <td>5.356285e+07</td>\n",
       "      <td>5.492470e+06</td>\n",
       "      <td>3.639453e+07</td>\n",
       "      <td>1.167586e+07</td>\n",
       "    </tr>\n",
       "    <tr>\n",
       "      <th>2031-01-01</th>\n",
       "      <td>0.106214</td>\n",
       "      <td>0.677422</td>\n",
       "      <td>0.216363</td>\n",
       "      <td>5.419679e+07</td>\n",
       "      <td>5.756478e+06</td>\n",
       "      <td>3.671411e+07</td>\n",
       "      <td>1.172620e+07</td>\n",
       "    </tr>\n",
       "    <tr>\n",
       "      <th>2032-01-01</th>\n",
       "      <td>0.109978</td>\n",
       "      <td>0.675493</td>\n",
       "      <td>0.214529</td>\n",
       "      <td>5.483068e+07</td>\n",
       "      <td>6.030145e+06</td>\n",
       "      <td>3.703775e+07</td>\n",
       "      <td>1.176278e+07</td>\n",
       "    </tr>\n",
       "    <tr>\n",
       "      <th>2033-01-01</th>\n",
       "      <td>0.113821</td>\n",
       "      <td>0.673548</td>\n",
       "      <td>0.212630</td>\n",
       "      <td>5.546452e+07</td>\n",
       "      <td>6.313047e+06</td>\n",
       "      <td>3.735804e+07</td>\n",
       "      <td>1.179344e+07</td>\n",
       "    </tr>\n",
       "    <tr>\n",
       "      <th>2034-01-01</th>\n",
       "      <td>0.117772</td>\n",
       "      <td>0.671392</td>\n",
       "      <td>0.210837</td>\n",
       "      <td>5.609834e+07</td>\n",
       "      <td>6.606788e+06</td>\n",
       "      <td>3.766396e+07</td>\n",
       "      <td>1.182758e+07</td>\n",
       "    </tr>\n",
       "    <tr>\n",
       "      <th>2035-01-01</th>\n",
       "      <td>0.121869</td>\n",
       "      <td>0.668980</td>\n",
       "      <td>0.209150</td>\n",
       "      <td>5.673212e+07</td>\n",
       "      <td>6.913915e+06</td>\n",
       "      <td>3.795266e+07</td>\n",
       "      <td>1.186554e+07</td>\n",
       "    </tr>\n",
       "    <tr>\n",
       "      <th>2036-01-01</th>\n",
       "      <td>0.126130</td>\n",
       "      <td>0.666432</td>\n",
       "      <td>0.207438</td>\n",
       "      <td>5.736588e+07</td>\n",
       "      <td>7.235535e+06</td>\n",
       "      <td>3.823048e+07</td>\n",
       "      <td>1.189986e+07</td>\n",
       "    </tr>\n",
       "    <tr>\n",
       "      <th>2037-01-01</th>\n",
       "      <td>0.130523</td>\n",
       "      <td>0.663873</td>\n",
       "      <td>0.205605</td>\n",
       "      <td>5.799963e+07</td>\n",
       "      <td>7.570269e+06</td>\n",
       "      <td>3.850436e+07</td>\n",
       "      <td>1.192499e+07</td>\n",
       "    </tr>\n",
       "    <tr>\n",
       "      <th>2038-01-01</th>\n",
       "      <td>0.135008</td>\n",
       "      <td>0.661306</td>\n",
       "      <td>0.203686</td>\n",
       "      <td>5.863337e+07</td>\n",
       "      <td>7.915961e+06</td>\n",
       "      <td>3.877461e+07</td>\n",
       "      <td>1.194280e+07</td>\n",
       "    </tr>\n",
       "    <tr>\n",
       "      <th>2039-01-01</th>\n",
       "      <td>0.139580</td>\n",
       "      <td>0.658644</td>\n",
       "      <td>0.201776</td>\n",
       "      <td>5.926710e+07</td>\n",
       "      <td>8.272485e+06</td>\n",
       "      <td>3.903591e+07</td>\n",
       "      <td>1.195871e+07</td>\n",
       "    </tr>\n",
       "    <tr>\n",
       "      <th>2040-01-01</th>\n",
       "      <td>0.144279</td>\n",
       "      <td>0.655809</td>\n",
       "      <td>0.199912</td>\n",
       "      <td>5.990084e+07</td>\n",
       "      <td>8.642440e+06</td>\n",
       "      <td>3.928349e+07</td>\n",
       "      <td>1.197491e+07</td>\n",
       "    </tr>\n",
       "    <tr>\n",
       "      <th>2041-01-01</th>\n",
       "      <td>0.149151</td>\n",
       "      <td>0.652799</td>\n",
       "      <td>0.198050</td>\n",
       "      <td>6.053459e+07</td>\n",
       "      <td>9.028784e+06</td>\n",
       "      <td>3.951692e+07</td>\n",
       "      <td>1.198888e+07</td>\n",
       "    </tr>\n",
       "  </tbody>\n",
       "</table>\n",
       "</div>"
      ],
      "text/plain": [
       "               elder     youth       kid           all     elder_num  \\\n",
       "2022-01-01  0.077170  0.692053  0.230777  4.849272e+07  3.742197e+06   \n",
       "2023-01-01  0.080005  0.690888  0.229107  4.912590e+07  3.930311e+06   \n",
       "2024-01-01  0.082947  0.689293  0.227760  4.975940e+07  4.127387e+06   \n",
       "2025-01-01  0.085979  0.687602  0.226418  5.039311e+07  4.332764e+06   \n",
       "2026-01-01  0.089090  0.686128  0.224782  5.102696e+07  4.546003e+06   \n",
       "2027-01-01  0.092283  0.684821  0.222897  5.166091e+07  4.767405e+06   \n",
       "2028-01-01  0.095575  0.683360  0.221065  5.229490e+07  4.998070e+06   \n",
       "2029-01-01  0.098991  0.681540  0.219469  5.292889e+07  5.239481e+06   \n",
       "2030-01-01  0.102543  0.679473  0.217984  5.356285e+07  5.492470e+06   \n",
       "2031-01-01  0.106214  0.677422  0.216363  5.419679e+07  5.756478e+06   \n",
       "2032-01-01  0.109978  0.675493  0.214529  5.483068e+07  6.030145e+06   \n",
       "2033-01-01  0.113821  0.673548  0.212630  5.546452e+07  6.313047e+06   \n",
       "2034-01-01  0.117772  0.671392  0.210837  5.609834e+07  6.606788e+06   \n",
       "2035-01-01  0.121869  0.668980  0.209150  5.673212e+07  6.913915e+06   \n",
       "2036-01-01  0.126130  0.666432  0.207438  5.736588e+07  7.235535e+06   \n",
       "2037-01-01  0.130523  0.663873  0.205605  5.799963e+07  7.570269e+06   \n",
       "2038-01-01  0.135008  0.661306  0.203686  5.863337e+07  7.915961e+06   \n",
       "2039-01-01  0.139580  0.658644  0.201776  5.926710e+07  8.272485e+06   \n",
       "2040-01-01  0.144279  0.655809  0.199912  5.990084e+07  8.642440e+06   \n",
       "2041-01-01  0.149151  0.652799  0.198050  6.053459e+07  9.028784e+06   \n",
       "\n",
       "               youth_num       kid_num  \n",
       "2022-01-01  3.355951e+07  1.119101e+07  \n",
       "2023-01-01  3.394048e+07  1.125511e+07  \n",
       "2024-01-01  3.429881e+07  1.133321e+07  \n",
       "2025-01-01  3.465042e+07  1.140992e+07  \n",
       "2026-01-01  3.501100e+07  1.146996e+07  \n",
       "2027-01-01  3.537845e+07  1.151505e+07  \n",
       "2028-01-01  3.573627e+07  1.156056e+07  \n",
       "2029-01-01  3.607317e+07  1.161623e+07  \n",
       "2030-01-01  3.639453e+07  1.167586e+07  \n",
       "2031-01-01  3.671411e+07  1.172620e+07  \n",
       "2032-01-01  3.703775e+07  1.176278e+07  \n",
       "2033-01-01  3.735804e+07  1.179344e+07  \n",
       "2034-01-01  3.766396e+07  1.182758e+07  \n",
       "2035-01-01  3.795266e+07  1.186554e+07  \n",
       "2036-01-01  3.823048e+07  1.189986e+07  \n",
       "2037-01-01  3.850436e+07  1.192499e+07  \n",
       "2038-01-01  3.877461e+07  1.194280e+07  \n",
       "2039-01-01  3.903591e+07  1.195871e+07  \n",
       "2040-01-01  3.928349e+07  1.197491e+07  \n",
       "2041-01-01  3.951692e+07  1.198888e+07  "
      ]
     },
     "execution_count": 23,
     "metadata": {},
     "output_type": "execute_result"
    }
   ],
   "source": [
    "cal_pop"
   ]
  },
  {
   "cell_type": "code",
   "execution_count": 24,
   "metadata": {},
   "outputs": [
    {
     "data": {
      "text/plain": [
       "<function matplotlib.pyplot.show(close=None, block=None)>"
      ]
     },
     "execution_count": 24,
     "metadata": {},
     "output_type": "execute_result"
    },
    {
     "data": {
      "image/png": "[encoded data removed]",
      "text/plain": [
       "<Figure size 640x480 with 1 Axes>"
      ]
     },
     "metadata": {},
     "output_type": "display_data"
    }
   ],
   "source": [
    "plt.plot(cal_pop['elder_num'],label=\"Elder\")\n",
    "plt.plot(cal_pop['youth_num'],label=\"Youth\")\n",
    "plt.plot(cal_pop['kid_num'],label=\"Kid\")\n",
    "plt.legend(loc='best')\n",
    "plt.show"
   ]
  }
 ],
 "metadata": {
  "kernelspec": {
   "display_name": "base",
   "language": "python",
   "name": "python3"
  },
  "language_info": {
   "codemirror_mode": {
    "name": "ipython",
    "version": 3
   },
   "file_extension": ".py",
   "mimetype": "text/x-python",
   "name": "python",
   "nbconvert_exporter": "python",
   "pygments_lexer": "ipython3",
   "version": "3.9.13"
  },
  "orig_nbformat": 4,
  "vscode": {
   "interpreter": {
    "hash": "f08154012ddadd8e950e6e9e035c7a7b32c136e7647e9b7c77e02eb723a8bedb"
   }
  }
 },
 "nbformat": 4,
 "nbformat_minor": 2
}
