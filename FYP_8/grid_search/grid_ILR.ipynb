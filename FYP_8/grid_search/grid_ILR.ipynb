{
 "cells": [
  {
   "cell_type": "code",
   "execution_count": 2,
   "metadata": {},
   "outputs": [],
   "source": [
    "import pandas as pd\n",
    "import matplotlib.pyplot as plt\n",
    "import numpy as np\n",
    "from sklearn.model_selection import train_test_split\n",
    "from statsmodels.tsa.arima.model import ARIMA\n",
    "from math import sqrt\n",
    "from sklearn.metrics import mean_squared_error\n",
    "import pmdarima\n",
    "from pmdarima import auto_arima\n",
    "from composition_stats import closure\n",
    "from composition_stats import ilr,ilr_inv\n",
    "import warnings\n",
    "warnings.filterwarnings(\"ignore\")"
   ]
  },
  {
   "cell_type": "code",
   "execution_count": null,
   "metadata": {},
   "outputs": [],
   "source": [
    "import os \n",
    "  \n",
    "# current directory \n",
    "current_dir = os.getcwd() \n",
    "relative_path=os.path.abspath(os.path.join(current_dir, os.pardir))"
   ]
  },
  {
   "cell_type": "code",
   "execution_count": 3,
   "metadata": {},
   "outputs": [],
   "source": [
    "ILR_data = pd.DataFrame(pd.read_csv(\n",
    "    relative_path+\"\\\\age_structure_data\\\\ILR_data.csv\"))\n",
    "ILR_data['Year'] = pd.to_datetime(ILR_data['Year'])\n",
    "ILR_data =ILR_data.set_index(\"Year\")"
   ]
  },
  {
   "cell_type": "code",
   "execution_count": 4,
   "metadata": {},
   "outputs": [],
   "source": [
    "test_data= pd.DataFrame(pd.read_csv(\n",
    "    relative_path+\"\\\\age_structure_data\\\\df_test.csv\"))\n",
    "test_data['Year'] = pd.to_datetime(test_data['Year'])\n",
    "test_data = test_data.set_index(\"Year\")"
   ]
  },
  {
   "cell_type": "code",
   "execution_count": 5,
   "metadata": {},
   "outputs": [],
   "source": [
    "Transfomed_ILR_1=ILR_data['log_ratio_1']\n",
    "Transfomed_ILR_2=ILR_data['log_ratio_2']"
   ]
  },
  {
   "cell_type": "code",
   "execution_count": 6,
   "metadata": {},
   "outputs": [],
   "source": [
    "def find_best_pdq(train_data, test_data, d):\n",
    "    df_search = pd.DataFrame()\n",
    "    for p in range(6):\n",
    "            for q in range(6):\n",
    "                arima_model = ARIMA(train_data, order=(p, d, q)).fit()\n",
    "                # predict from the position of test data which is length of train data\n",
    "                prediction = arima_model.predict(\n",
    "                    start=len(train_data), end=len(train_data)+len(test_data)-1)\n",
    "                rmse = sqrt(mean_squared_error(test_data, prediction))\n",
    "                df_search = df_search.append({'pdq_paramters': str(\n",
    "                    p)+\" \"+str(d)+\" \"+str(q), 'rmse': rmse}, ignore_index=True)\n",
    "    return df_search, test_data, prediction"
   ]
  },
  {
   "attachments": {},
   "cell_type": "markdown",
   "metadata": {},
   "source": [
    "For Transfomed_ILR_1"
   ]
  },
  {
   "cell_type": "code",
   "execution_count": 7,
   "metadata": {},
   "outputs": [
    {
     "data": {
      "text/html": [
       "<div>\n",
       "<style scoped>\n",
       "    .dataframe tbody tr th:only-of-type {\n",
       "        vertical-align: middle;\n",
       "    }\n",
       "\n",
       "    .dataframe tbody tr th {\n",
       "        vertical-align: top;\n",
       "    }\n",
       "\n",
       "    .dataframe thead th {\n",
       "        text-align: right;\n",
       "    }\n",
       "</style>\n",
       "<table border=\"1\" class=\"dataframe\">\n",
       "  <thead>\n",
       "    <tr style=\"text-align: right;\">\n",
       "      <th></th>\n",
       "      <th>rmse</th>\n",
       "    </tr>\n",
       "    <tr>\n",
       "      <th>pdq_paramters</th>\n",
       "      <th></th>\n",
       "    </tr>\n",
       "  </thead>\n",
       "  <tbody>\n",
       "    <tr>\n",
       "      <th>2 2 2</th>\n",
       "      <td>0.014059</td>\n",
       "    </tr>\n",
       "    <tr>\n",
       "      <th>3 2 4</th>\n",
       "      <td>0.026706</td>\n",
       "    </tr>\n",
       "    <tr>\n",
       "      <th>4 2 4</th>\n",
       "      <td>0.027534</td>\n",
       "    </tr>\n",
       "    <tr>\n",
       "      <th>2 2 4</th>\n",
       "      <td>0.027836</td>\n",
       "    </tr>\n",
       "    <tr>\n",
       "      <th>5 2 4</th>\n",
       "      <td>0.028019</td>\n",
       "    </tr>\n",
       "  </tbody>\n",
       "</table>\n",
       "</div>"
      ],
      "text/plain": [
       "                   rmse\n",
       "pdq_paramters          \n",
       "2 2 2          0.014059\n",
       "3 2 4          0.026706\n",
       "4 2 4          0.027534\n",
       "2 2 4          0.027836\n",
       "5 2 4          0.028019"
      ]
     },
     "execution_count": 7,
     "metadata": {},
     "output_type": "execute_result"
    }
   ],
   "source": [
    "train_1_1, test_1_1 = train_test_split(Transfomed_ILR_1, test_size=0.2, shuffle=False)\n",
    "train_1_2, test_1_2 = train_test_split(train_1_1, test_size=0.2, shuffle=False)\n",
    "train_1_3, test_1_3 = train_test_split(train_1_2, test_size=0.15, shuffle=False)\n",
    "log_ratio1_best_pdq1, test_data1_1, prediction_test1_1=find_best_pdq(train_1_1, test_1_1, 2)\n",
    "log_ratio1_best_pdq2, test_data1_2, prediction_test1_2=find_best_pdq(train_1_2, test_1_2, 2)\n",
    "log_ratio1_best_pdq3, test_data1_3, prediction_test1_3=find_best_pdq(train_1_3, test_1_3, 2)\n",
    "\n",
    "concatenated_1 = pd.concat([log_ratio1_best_pdq1, log_ratio1_best_pdq2, log_ratio1_best_pdq3])\n",
    "concatenated_1=concatenated_1.groupby('pdq_paramters').mean()\n",
    "concatenated_1.sort_values('rmse', ascending=True).head()"
   ]
  },
  {
   "cell_type": "code",
   "execution_count": 8,
   "metadata": {},
   "outputs": [],
   "source": [
    "arima_model_1 = ARIMA(Transfomed_ILR_1, order=(2, 2, 2)).fit()\n",
    "prediction_1 = arima_model_1.predict(\n",
    "    start=len(Transfomed_ILR_1), end=len(Transfomed_ILR_1)+len(test_data)-1)\n",
    "prediction_1 = prediction_1.to_frame()\n",
    "prediction_1.rename(columns = {'predicted_mean':0}, inplace = True)\n",
    "final_1 = pd.concat([Transfomed_ILR_1, prediction_1])"
   ]
  },
  {
   "attachments": {},
   "cell_type": "markdown",
   "metadata": {},
   "source": [
    "For Transfomed_ILR_2"
   ]
  },
  {
   "cell_type": "code",
   "execution_count": 9,
   "metadata": {},
   "outputs": [
    {
     "data": {
      "text/html": [
       "<div>\n",
       "<style scoped>\n",
       "    .dataframe tbody tr th:only-of-type {\n",
       "        vertical-align: middle;\n",
       "    }\n",
       "\n",
       "    .dataframe tbody tr th {\n",
       "        vertical-align: top;\n",
       "    }\n",
       "\n",
       "    .dataframe thead th {\n",
       "        text-align: right;\n",
       "    }\n",
       "</style>\n",
       "<table border=\"1\" class=\"dataframe\">\n",
       "  <thead>\n",
       "    <tr style=\"text-align: right;\">\n",
       "      <th></th>\n",
       "      <th>rmse</th>\n",
       "    </tr>\n",
       "    <tr>\n",
       "      <th>pdq_paramters</th>\n",
       "      <th></th>\n",
       "    </tr>\n",
       "  </thead>\n",
       "  <tbody>\n",
       "    <tr>\n",
       "      <th>2 2 4</th>\n",
       "      <td>0.017354</td>\n",
       "    </tr>\n",
       "    <tr>\n",
       "      <th>3 2 4</th>\n",
       "      <td>0.018855</td>\n",
       "    </tr>\n",
       "    <tr>\n",
       "      <th>4 2 3</th>\n",
       "      <td>0.019023</td>\n",
       "    </tr>\n",
       "    <tr>\n",
       "      <th>1 2 4</th>\n",
       "      <td>0.019520</td>\n",
       "    </tr>\n",
       "    <tr>\n",
       "      <th>0 2 3</th>\n",
       "      <td>0.019598</td>\n",
       "    </tr>\n",
       "  </tbody>\n",
       "</table>\n",
       "</div>"
      ],
      "text/plain": [
       "                   rmse\n",
       "pdq_paramters          \n",
       "2 2 4          0.017354\n",
       "3 2 4          0.018855\n",
       "4 2 3          0.019023\n",
       "1 2 4          0.019520\n",
       "0 2 3          0.019598"
      ]
     },
     "execution_count": 9,
     "metadata": {},
     "output_type": "execute_result"
    }
   ],
   "source": [
    "train_2_1, test_2_1 = train_test_split(Transfomed_ILR_2, test_size=0.2, shuffle=False)\n",
    "train_2_2, test_2_2 = train_test_split(train_2_1, test_size=0.2, shuffle=False)\n",
    "train_2_3, test_2_3 = train_test_split(train_2_2, test_size=0.15, shuffle=False)\n",
    "log_ratio2_best_pdq1, test_data2_1, prediction_test2_1=find_best_pdq(train_2_1, test_2_1, 2)\n",
    "log_ratio2_best_pdq2, test_data2_2, prediction_test2_2=find_best_pdq(train_2_2, test_2_2, 2)\n",
    "log_ratio2_best_pdq3, test_data2_3, prediction_test2_3=find_best_pdq(train_2_3, test_2_3, 2)\n",
    "\n",
    "concatenated_2 = pd.concat([log_ratio2_best_pdq1, log_ratio2_best_pdq2, log_ratio2_best_pdq3])\n",
    "concatenated_2=concatenated_2.groupby('pdq_paramters').mean()\n",
    "concatenated_2.sort_values('rmse', ascending=True).head()"
   ]
  },
  {
   "cell_type": "code",
   "execution_count": 10,
   "metadata": {},
   "outputs": [],
   "source": [
    "arima_model_2 = ARIMA(Transfomed_ILR_2, order=(2, 2, 4)).fit()\n",
    "prediction = arima_model_2.predict(\n",
    "    start=len(Transfomed_ILR_2), end=len(Transfomed_ILR_2)+len(test_data)-1)\n",
    "prediction = prediction.to_frame()\n",
    "prediction.rename(columns = {'predicted_mean':0}, inplace = True)\n",
    "final_2 = pd.concat([Transfomed_ILR_2, prediction])"
   ]
  },
  {
   "attachments": {},
   "cell_type": "markdown",
   "metadata": {},
   "source": [
    "Combine parts"
   ]
  },
  {
   "cell_type": "code",
   "execution_count": 11,
   "metadata": {},
   "outputs": [],
   "source": [
    "final_1.rename(columns = {0:'log_ratio1'}, inplace = True)\n",
    "final_2.rename(columns = {0:'log_ratio2'}, inplace = True)\n",
    "final = pd.concat([final_1, final_2], axis=1)\n",
    "proportion=ilr_inv(final)\n",
    "proportion = pd.DataFrame(proportion, columns=[\n",
    "    'elder', 'youth', 'kid'])\n",
    "proportion['Year'] = proportion.index + 1964\n",
    "proportion['Year'] = pd.to_datetime(proportion['Year'], format='%Y')\n",
    "proportion = proportion.set_index(\"Year\")"
   ]
  },
  {
   "cell_type": "code",
   "execution_count": 12,
   "metadata": {},
   "outputs": [],
   "source": [
    "df_actual=proportion[(proportion.index< '2010-01-01')]\n",
    "df_forecast=proportion[(proportion.index> '2009-01-01')]"
   ]
  },
  {
   "cell_type": "code",
   "execution_count": 13,
   "metadata": {},
   "outputs": [],
   "source": [
    "actual_test1 = pd.concat([test_data1_1, test_data2_1], axis=1)\n",
    "actual_test2 = pd.concat([test_data1_2, test_data2_2], axis=1)\n",
    "actual_test3 = pd.concat([test_data1_3, test_data2_3], axis=1)\n",
    "forecast_test1 = pd.concat([prediction_test1_1, prediction_test2_1], axis=1)\n",
    "forecast_test2 = pd.concat([prediction_test1_2, prediction_test2_2], axis=1)\n",
    "forecast_test3 = pd.concat([prediction_test1_3, prediction_test2_3], axis=1)\n",
    "proportion_actual_1=ilr_inv(actual_test1)\n",
    "proportion_actual_2=ilr_inv(actual_test2)\n",
    "proportion_actual_3=ilr_inv(actual_test3)\n",
    "proportion_forecast_1=ilr_inv(forecast_test1)\n",
    "proportion_forecast_2=ilr_inv(forecast_test2)\n",
    "proportion_forecast_3=ilr_inv(forecast_test3)"
   ]
  },
  {
   "cell_type": "code",
   "execution_count": 14,
   "metadata": {},
   "outputs": [
    {
     "data": {
      "text/plain": [
       "0.0022110655186604114"
      ]
     },
     "execution_count": 14,
     "metadata": {},
     "output_type": "execute_result"
    }
   ],
   "source": [
    "rmse1 = sqrt(mean_squared_error(proportion_actual_1, proportion_forecast_1))\n",
    "rmse2 = sqrt(mean_squared_error(proportion_actual_2, proportion_forecast_2))\n",
    "rmse3 = sqrt(mean_squared_error(proportion_actual_3, proportion_forecast_3))\n",
    "\n",
    "rmse_cv=(rmse1+rmse2+rmse3)/3\n",
    "rmse_cv"
   ]
  },
  {
   "cell_type": "code",
   "execution_count": 15,
   "metadata": {},
   "outputs": [
    {
     "data": {
      "text/plain": [
       "0.006379231136732239"
      ]
     },
     "execution_count": 15,
     "metadata": {},
     "output_type": "execute_result"
    }
   ],
   "source": [
    "rmse_final = sqrt(mean_squared_error(df_forecast, test_data))\n",
    "rmse_final"
   ]
  },
  {
   "cell_type": "code",
   "execution_count": 16,
   "metadata": {},
   "outputs": [],
   "source": [
    "df_forecast.to_csv(relative_path+\"\\\\age_structure_data\\\\grid_ILR_forecast.csv\")"
   ]
  },
  {
   "cell_type": "code",
   "execution_count": 17,
   "metadata": {},
   "outputs": [
    {
     "data": {
      "text/plain": [
       "<function matplotlib.pyplot.show(close=None, block=None)>"
      ]
     },
     "execution_count": 17,
     "metadata": {},
     "output_type": "execute_result"
    },
    {
     "data": {
      "image/png": "[encoded data removed]",
      "text/plain": [
       "<Figure size 640x480 with 1 Axes>"
      ]
     },
     "metadata": {},
     "output_type": "display_data"
    }
   ],
   "source": [
    "plt.plot(df_actual['elder'],label=\"Elder\")\n",
    "plt.plot(df_actual['youth'],label=\"Youth\")\n",
    "plt.plot(df_actual['kid'],label=\"Kid\")\n",
    "plt.plot(df_forecast['elder'],label=\"Elder_forecast\")\n",
    "plt.plot(df_forecast['youth'],label=\"Youth_forecast\")\n",
    "plt.plot(df_forecast['kid'],label=\"Kid_forecast\")\n",
    "\n",
    "plt.plot(test_data['elder'],label=\"Elder_actual\")\n",
    "plt.plot(test_data['youth'],label=\"Youth_actual\")\n",
    "plt.plot(test_data['kid'],label=\"Kid_actual\")\n",
    "\n",
    "\n",
    "plt.legend(loc='best')\n",
    "plt.show"
   ]
  }
 ],
 "metadata": {
  "kernelspec": {
   "display_name": "base",
   "language": "python",
   "name": "python3"
  },
  "language_info": {
   "codemirror_mode": {
    "name": "ipython",
    "version": 3
   },
   "file_extension": ".py",
   "mimetype": "text/x-python",
   "name": "python",
   "nbconvert_exporter": "python",
   "pygments_lexer": "ipython3",
   "version": "3.9.13 (main, Aug 25 2022, 23:51:50) [MSC v.1916 64 bit (AMD64)]"
  },
  "orig_nbformat": 4,
  "vscode": {
   "interpreter": {
    "hash": "f08154012ddadd8e950e6e9e035c7a7b32c136e7647e9b7c77e02eb723a8bedb"
   }
  }
 },
 "nbformat": 4,
 "nbformat_minor": 2
}
