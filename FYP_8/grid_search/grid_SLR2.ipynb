{
 "cells": [
  {
   "cell_type": "code",
   "execution_count": 55,
   "metadata": {},
   "outputs": [],
   "source": [
    "import pandas as pd\n",
    "import matplotlib.pyplot as plt\n",
    "import numpy as np\n",
    "from sklearn.model_selection import train_test_split\n",
    "from statsmodels.tsa.arima.model import ARIMA\n",
    "from math import sqrt\n",
    "from sklearn.metrics import mean_squared_error\n",
    "import pmdarima\n",
    "from pmdarima import auto_arima\n",
    "from composition_stats import closure\n",
    "from composition_stats import ilr,ilr_inv\n",
    "import warnings\n",
    "warnings.filterwarnings(\"ignore\")"
   ]
  },
  {
   "cell_type": "code",
   "execution_count": 56,
   "metadata": {},
   "outputs": [],
   "source": [
    "import os \n",
    "  \n",
    "# current directory \n",
    "current_dir = os.getcwd() \n",
    "relative_path=os.path.abspath(os.path.join(current_dir, os.pardir))"
   ]
  },
  {
   "cell_type": "code",
   "execution_count": 57,
   "metadata": {},
   "outputs": [],
   "source": [
    "SLR_data = pd.DataFrame(pd.read_csv(\n",
    "    relative_path+\"\\\\age_structure_data\\\\SLR2_data.csv\"))\n",
    "SLR_data['Year'] = pd.to_datetime(SLR_data['Year'])\n",
    "SLR_data =SLR_data.set_index(\"Year\")"
   ]
  },
  {
   "cell_type": "code",
   "execution_count": 58,
   "metadata": {},
   "outputs": [],
   "source": [
    "test_data= pd.DataFrame(pd.read_csv(\n",
    "    relative_path+\"\\\\age_structure_data\\\\df_test.csv\"))\n",
    "test_data['Year'] = pd.to_datetime(test_data['Year'])\n",
    "test_data = test_data.set_index(\"Year\")"
   ]
  },
  {
   "cell_type": "code",
   "execution_count": 59,
   "metadata": {},
   "outputs": [],
   "source": [
    "SLR_1=SLR_data['log_ratio_1']\n",
    "SLR_2=SLR_data['log_ratio_2']"
   ]
  },
  {
   "cell_type": "code",
   "execution_count": 60,
   "metadata": {},
   "outputs": [],
   "source": [
    "def find_best_pdq(train_data, test_data, d):\n",
    "    df_search = pd.DataFrame()\n",
    "    for p in range(6):\n",
    "            for q in range(6):\n",
    "                arima_model = ARIMA(train_data, order=(p, d, q)).fit()\n",
    "                # predict from the position of test data which is length of train data\n",
    "                prediction = arima_model.predict(\n",
    "                    start=len(train_data), end=len(train_data)+len(test_data)-1)\n",
    "                rmse = sqrt(mean_squared_error(test_data, prediction))\n",
    "                df_search = df_search.append({'pdq_paramters': str(\n",
    "                    p)+\" \"+str(d)+\" \"+str(q), 'rmse': rmse}, ignore_index=True)\n",
    "    return df_search, test_data, prediction"
   ]
  },
  {
   "attachments": {},
   "cell_type": "markdown",
   "metadata": {},
   "source": [
    "For SLR_1"
   ]
  },
  {
   "cell_type": "code",
   "execution_count": 61,
   "metadata": {},
   "outputs": [
    {
     "data": {
      "text/html": [
       "<div>\n",
       "<style scoped>\n",
       "    .dataframe tbody tr th:only-of-type {\n",
       "        vertical-align: middle;\n",
       "    }\n",
       "\n",
       "    .dataframe tbody tr th {\n",
       "        vertical-align: top;\n",
       "    }\n",
       "\n",
       "    .dataframe thead th {\n",
       "        text-align: right;\n",
       "    }\n",
       "</style>\n",
       "<table border=\"1\" class=\"dataframe\">\n",
       "  <thead>\n",
       "    <tr style=\"text-align: right;\">\n",
       "      <th></th>\n",
       "      <th>rmse</th>\n",
       "    </tr>\n",
       "    <tr>\n",
       "      <th>pdq_paramters</th>\n",
       "      <th></th>\n",
       "    </tr>\n",
       "  </thead>\n",
       "  <tbody>\n",
       "    <tr>\n",
       "      <th>2 2 2</th>\n",
       "      <td>0.008496</td>\n",
       "    </tr>\n",
       "    <tr>\n",
       "      <th>3 2 4</th>\n",
       "      <td>0.016497</td>\n",
       "    </tr>\n",
       "    <tr>\n",
       "      <th>4 2 4</th>\n",
       "      <td>0.016846</td>\n",
       "    </tr>\n",
       "    <tr>\n",
       "      <th>2 2 4</th>\n",
       "      <td>0.017096</td>\n",
       "    </tr>\n",
       "    <tr>\n",
       "      <th>1 2 4</th>\n",
       "      <td>0.017224</td>\n",
       "    </tr>\n",
       "  </tbody>\n",
       "</table>\n",
       "</div>"
      ],
      "text/plain": [
       "                   rmse\n",
       "pdq_paramters          \n",
       "2 2 2          0.008496\n",
       "3 2 4          0.016497\n",
       "4 2 4          0.016846\n",
       "2 2 4          0.017096\n",
       "1 2 4          0.017224"
      ]
     },
     "execution_count": 61,
     "metadata": {},
     "output_type": "execute_result"
    }
   ],
   "source": [
    "train_e_1, test_e_1 = train_test_split(SLR_1, test_size=0.2, shuffle=False)\n",
    "train_e_2, test_e_2 = train_test_split(train_e_1, test_size=0.2, shuffle=False)\n",
    "train_e_3, test_e_3 = train_test_split(train_e_2, test_size=0.15, shuffle=False)\n",
    "log_ratio_e_best_pdq1, test_data_e_1, prediction_test_e_1=find_best_pdq(train_e_1, test_e_1, 2)\n",
    "log_ratio_e_best_pdq2, test_data_e_2, prediction_test_e_2=find_best_pdq(train_e_2, test_e_2, 2)\n",
    "log_ratio_e_best_pdq3, test_data_e_3, prediction_test_e_3=find_best_pdq(train_e_3, test_e_3, 2)\n",
    "\n",
    "concatenated_1 = pd.concat([log_ratio_e_best_pdq1, log_ratio_e_best_pdq2, log_ratio_e_best_pdq3])\n",
    "concatenated_1=concatenated_1.groupby('pdq_paramters').mean()\n",
    "concatenated_1.sort_values('rmse', ascending=True).head()"
   ]
  },
  {
   "cell_type": "code",
   "execution_count": 62,
   "metadata": {},
   "outputs": [],
   "source": [
    "arima_model_1 = ARIMA(SLR_1, order=(2, 2, 2)).fit()\n",
    "prediction_1 = arima_model_1.predict(\n",
    "    start=len(SLR_1), end=len(SLR_1)+len(test_data)-1)\n",
    "prediction_1 = prediction_1.to_frame()\n",
    "prediction_1.rename(columns = {'predicted_mean':0}, inplace = True)\n",
    "final_1 = pd.concat([SLR_1, prediction_1])"
   ]
  },
  {
   "attachments": {},
   "cell_type": "markdown",
   "metadata": {},
   "source": [
    "For SLR_y"
   ]
  },
  {
   "cell_type": "code",
   "execution_count": 63,
   "metadata": {},
   "outputs": [
    {
     "data": {
      "text/html": [
       "<div>\n",
       "<style scoped>\n",
       "    .dataframe tbody tr th:only-of-type {\n",
       "        vertical-align: middle;\n",
       "    }\n",
       "\n",
       "    .dataframe tbody tr th {\n",
       "        vertical-align: top;\n",
       "    }\n",
       "\n",
       "    .dataframe thead th {\n",
       "        text-align: right;\n",
       "    }\n",
       "</style>\n",
       "<table border=\"1\" class=\"dataframe\">\n",
       "  <thead>\n",
       "    <tr style=\"text-align: right;\">\n",
       "      <th></th>\n",
       "      <th>rmse</th>\n",
       "    </tr>\n",
       "    <tr>\n",
       "      <th>pdq_paramters</th>\n",
       "      <th></th>\n",
       "    </tr>\n",
       "  </thead>\n",
       "  <tbody>\n",
       "    <tr>\n",
       "      <th>3 2 4</th>\n",
       "      <td>0.018475</td>\n",
       "    </tr>\n",
       "    <tr>\n",
       "      <th>0 2 3</th>\n",
       "      <td>0.018476</td>\n",
       "    </tr>\n",
       "    <tr>\n",
       "      <th>5 2 1</th>\n",
       "      <td>0.018514</td>\n",
       "    </tr>\n",
       "    <tr>\n",
       "      <th>3 2 5</th>\n",
       "      <td>0.018554</td>\n",
       "    </tr>\n",
       "    <tr>\n",
       "      <th>5 2 0</th>\n",
       "      <td>0.018643</td>\n",
       "    </tr>\n",
       "  </tbody>\n",
       "</table>\n",
       "</div>"
      ],
      "text/plain": [
       "                   rmse\n",
       "pdq_paramters          \n",
       "3 2 4          0.018475\n",
       "0 2 3          0.018476\n",
       "5 2 1          0.018514\n",
       "3 2 5          0.018554\n",
       "5 2 0          0.018643"
      ]
     },
     "execution_count": 63,
     "metadata": {},
     "output_type": "execute_result"
    }
   ],
   "source": [
    "train_y_1, test_y_1 = train_test_split(SLR_2, test_size=0.2, shuffle=False)\n",
    "train_y_2, test_y_2 = train_test_split(train_y_1, test_size=0.2, shuffle=False)\n",
    "train_y_3, test_y_3 = train_test_split(train_y_2, test_size=0.15, shuffle=False)\n",
    "log_ratio_y_best_pdq1, test_data_y_1, prediction_test_y_1=find_best_pdq(train_y_1, test_y_1, 2)\n",
    "log_ratio_y_best_pdq2, test_data_y_2, prediction_test_y_2=find_best_pdq(train_y_2, test_y_2, 2)\n",
    "log_ratio_y_best_pdq3, test_data_y_3, prediction_test_y_3=find_best_pdq(train_y_3, test_y_3, 2)\n",
    "\n",
    "concatenated_1 = pd.concat([log_ratio_y_best_pdq1, log_ratio_y_best_pdq2, log_ratio_y_best_pdq3])\n",
    "concatenated_1=concatenated_1.groupby('pdq_paramters').mean()\n",
    "concatenated_1.sort_values('rmse', ascending=True).head()"
   ]
  },
  {
   "cell_type": "code",
   "execution_count": 64,
   "metadata": {},
   "outputs": [],
   "source": [
    "arima_model_2 = ARIMA(SLR_2, order=(3,2, 4)).fit()\n",
    "prediction_2 = arima_model_2.predict(\n",
    "    start=len(SLR_2), end=len(SLR_2)+len(test_data)-1)\n",
    "prediction_2 = prediction_2.to_frame()\n",
    "prediction_2.rename(columns = {'predicted_mean':0}, inplace = True)\n",
    "final_2 = pd.concat([SLR_2, prediction_2])"
   ]
  },
  {
   "attachments": {},
   "cell_type": "markdown",
   "metadata": {},
   "source": [
    "Combine parts"
   ]
  },
  {
   "cell_type": "code",
   "execution_count": 65,
   "metadata": {},
   "outputs": [],
   "source": [
    "final_1.rename(columns = {0:'log_ratio_1'}, inplace = True)\n",
    "final_2.rename(columns = {0:'log_ratio_2'}, inplace = True)\n"
   ]
  },
  {
   "cell_type": "code",
   "execution_count": 66,
   "metadata": {},
   "outputs": [],
   "source": [
    "def SLR2_inv(df1,df2):\n",
    "    arr_1 = df1.to_numpy()\n",
    "    arr_2 = df2.to_numpy()\n",
    "    log_ratio_1 = pd.DataFrame(arr_1,columns=['log_ratio_1'])\n",
    "    log_ratio_2 = pd.DataFrame(arr_2,columns=['log_ratio_2'])\n",
    "    e2_arr=[]\n",
    "    y2_arr=[]\n",
    "    k2_arr=[]\n",
    "    for i in range(len(df1)):\n",
    "        A = log_ratio_1._get_value(i,0,takeable = True)\n",
    "        B = log_ratio_2._get_value(i,0,takeable = True)\n",
    "        e2_arr.append(1)\n",
    "        y2_arr.append(1/(10**A))\n",
    "        k2_arr.append(1/(10**B))\n",
    "    e_prepro = pd.DataFrame(e2_arr, columns=['e_prepro'])\n",
    "    y_prepro = pd.DataFrame(y2_arr, columns=['y_prepro'])\n",
    "    k_prepro = pd.DataFrame(k2_arr, columns=['k_prepro'])\n",
    "    prepro = pd.concat([e_prepro, y_prepro,k_prepro],axis=1)\n",
    "    data_proportion = closure(prepro)\n",
    "    return data_proportion\n"
   ]
  },
  {
   "cell_type": "code",
   "execution_count": 67,
   "metadata": {},
   "outputs": [],
   "source": [
    "data_proportion=SLR2_inv(final_1,final_2)"
   ]
  },
  {
   "cell_type": "code",
   "execution_count": 68,
   "metadata": {},
   "outputs": [],
   "source": [
    "def set_col(df):\n",
    "    df = pd.DataFrame(df, columns=[\n",
    "    'elder', 'youth', 'kid'])\n",
    "    df['Year'] = df.index + 1964\n",
    "    df['Year'] = pd.to_datetime(df['Year'], format='%Y')\n",
    "    df = df.set_index(\"Year\")\n",
    "    return df"
   ]
  },
  {
   "cell_type": "code",
   "execution_count": 69,
   "metadata": {},
   "outputs": [],
   "source": [
    "proportion = set_col(data_proportion)"
   ]
  },
  {
   "cell_type": "code",
   "execution_count": 70,
   "metadata": {},
   "outputs": [],
   "source": [
    "df_actual=proportion[(proportion.index< '2010-01-01')]\n",
    "df_forecast=proportion[(proportion.index> '2009-01-01')]"
   ]
  },
  {
   "cell_type": "code",
   "execution_count": 71,
   "metadata": {},
   "outputs": [],
   "source": [
    "proportion_actual_1=SLR2_inv(test_data_e_1, test_data_y_1)\n",
    "proportion_actual_2=SLR2_inv(test_data_e_2, test_data_y_2)\n",
    "proportion_actual_3=SLR2_inv(test_data_e_3, test_data_y_3)\n",
    "proportion_forecast_1=SLR2_inv(prediction_test_e_1, prediction_test_y_1)\n",
    "proportion_forecast_2=SLR2_inv(prediction_test_e_2, prediction_test_y_2)\n",
    "proportion_forecast_3=SLR2_inv(prediction_test_e_3, prediction_test_y_3)"
   ]
  },
  {
   "cell_type": "code",
   "execution_count": 72,
   "metadata": {},
   "outputs": [
    {
     "data": {
      "text/plain": [
       "0.0035039023831115006"
      ]
     },
     "execution_count": 72,
     "metadata": {},
     "output_type": "execute_result"
    }
   ],
   "source": [
    "rmse1 = sqrt(mean_squared_error(proportion_actual_1, proportion_forecast_1))\n",
    "rmse2 = sqrt(mean_squared_error(proportion_actual_2, proportion_forecast_2))\n",
    "rmse3 = sqrt(mean_squared_error(proportion_actual_3, proportion_forecast_3))\n",
    "\n",
    "rmse_cv=(rmse1+rmse2+rmse3)/3\n",
    "rmse_cv"
   ]
  },
  {
   "cell_type": "code",
   "execution_count": 73,
   "metadata": {},
   "outputs": [
    {
     "data": {
      "text/plain": [
       "0.006338441526411446"
      ]
     },
     "execution_count": 73,
     "metadata": {},
     "output_type": "execute_result"
    }
   ],
   "source": [
    "rmse_final = sqrt(mean_squared_error(df_forecast, test_data))\n",
    "rmse_final"
   ]
  },
  {
   "cell_type": "code",
   "execution_count": 74,
   "metadata": {},
   "outputs": [
    {
     "data": {
      "text/html": [
       "<div>\n",
       "<style scoped>\n",
       "    .dataframe tbody tr th:only-of-type {\n",
       "        vertical-align: middle;\n",
       "    }\n",
       "\n",
       "    .dataframe tbody tr th {\n",
       "        vertical-align: top;\n",
       "    }\n",
       "\n",
       "    .dataframe thead th {\n",
       "        text-align: right;\n",
       "    }\n",
       "</style>\n",
       "<table border=\"1\" class=\"dataframe\">\n",
       "  <thead>\n",
       "    <tr style=\"text-align: right;\">\n",
       "      <th></th>\n",
       "      <th>elder</th>\n",
       "      <th>youth</th>\n",
       "      <th>kid</th>\n",
       "    </tr>\n",
       "    <tr>\n",
       "      <th>Year</th>\n",
       "      <th></th>\n",
       "      <th></th>\n",
       "      <th></th>\n",
       "    </tr>\n",
       "  </thead>\n",
       "  <tbody>\n",
       "    <tr>\n",
       "      <th>2010-01-01</th>\n",
       "      <td>0.049382</td>\n",
       "      <td>0.671007</td>\n",
       "      <td>0.279611</td>\n",
       "    </tr>\n",
       "    <tr>\n",
       "      <th>2011-01-01</th>\n",
       "      <td>0.051145</td>\n",
       "      <td>0.675869</td>\n",
       "      <td>0.272987</td>\n",
       "    </tr>\n",
       "    <tr>\n",
       "      <th>2012-01-01</th>\n",
       "      <td>0.053118</td>\n",
       "      <td>0.679910</td>\n",
       "      <td>0.266972</td>\n",
       "    </tr>\n",
       "    <tr>\n",
       "      <th>2013-01-01</th>\n",
       "      <td>0.055259</td>\n",
       "      <td>0.683400</td>\n",
       "      <td>0.261341</td>\n",
       "    </tr>\n",
       "    <tr>\n",
       "      <th>2014-01-01</th>\n",
       "      <td>0.057486</td>\n",
       "      <td>0.686543</td>\n",
       "      <td>0.255971</td>\n",
       "    </tr>\n",
       "    <tr>\n",
       "      <th>2015-01-01</th>\n",
       "      <td>0.059756</td>\n",
       "      <td>0.689348</td>\n",
       "      <td>0.250896</td>\n",
       "    </tr>\n",
       "    <tr>\n",
       "      <th>2016-01-01</th>\n",
       "      <td>0.062031</td>\n",
       "      <td>0.690806</td>\n",
       "      <td>0.247163</td>\n",
       "    </tr>\n",
       "    <tr>\n",
       "      <th>2017-01-01</th>\n",
       "      <td>0.064340</td>\n",
       "      <td>0.692223</td>\n",
       "      <td>0.243438</td>\n",
       "    </tr>\n",
       "    <tr>\n",
       "      <th>2018-01-01</th>\n",
       "      <td>0.066718</td>\n",
       "      <td>0.693331</td>\n",
       "      <td>0.239951</td>\n",
       "    </tr>\n",
       "    <tr>\n",
       "      <th>2019-01-01</th>\n",
       "      <td>0.069208</td>\n",
       "      <td>0.693842</td>\n",
       "      <td>0.236950</td>\n",
       "    </tr>\n",
       "    <tr>\n",
       "      <th>2020-01-01</th>\n",
       "      <td>0.071837</td>\n",
       "      <td>0.693682</td>\n",
       "      <td>0.234481</td>\n",
       "    </tr>\n",
       "    <tr>\n",
       "      <th>2021-01-01</th>\n",
       "      <td>0.074455</td>\n",
       "      <td>0.692878</td>\n",
       "      <td>0.232667</td>\n",
       "    </tr>\n",
       "  </tbody>\n",
       "</table>\n",
       "</div>"
      ],
      "text/plain": [
       "               elder     youth       kid\n",
       "Year                                    \n",
       "2010-01-01  0.049382  0.671007  0.279611\n",
       "2011-01-01  0.051145  0.675869  0.272987\n",
       "2012-01-01  0.053118  0.679910  0.266972\n",
       "2013-01-01  0.055259  0.683400  0.261341\n",
       "2014-01-01  0.057486  0.686543  0.255971\n",
       "2015-01-01  0.059756  0.689348  0.250896\n",
       "2016-01-01  0.062031  0.690806  0.247163\n",
       "2017-01-01  0.064340  0.692223  0.243438\n",
       "2018-01-01  0.066718  0.693331  0.239951\n",
       "2019-01-01  0.069208  0.693842  0.236950\n",
       "2020-01-01  0.071837  0.693682  0.234481\n",
       "2021-01-01  0.074455  0.692878  0.232667"
      ]
     },
     "execution_count": 74,
     "metadata": {},
     "output_type": "execute_result"
    }
   ],
   "source": [
    "test_data"
   ]
  },
  {
   "cell_type": "code",
   "execution_count": 75,
   "metadata": {},
   "outputs": [],
   "source": [
    "df_forecast.to_csv(relative_path+\"\\\\age_structure_data\\\\grid_SLR2_forecast.csv\")"
   ]
  },
  {
   "cell_type": "code",
   "execution_count": 76,
   "metadata": {},
   "outputs": [
    {
     "data": {
      "text/html": [
       "<div>\n",
       "<style scoped>\n",
       "    .dataframe tbody tr th:only-of-type {\n",
       "        vertical-align: middle;\n",
       "    }\n",
       "\n",
       "    .dataframe tbody tr th {\n",
       "        vertical-align: top;\n",
       "    }\n",
       "\n",
       "    .dataframe thead th {\n",
       "        text-align: right;\n",
       "    }\n",
       "</style>\n",
       "<table border=\"1\" class=\"dataframe\">\n",
       "  <thead>\n",
       "    <tr style=\"text-align: right;\">\n",
       "      <th></th>\n",
       "      <th>elder</th>\n",
       "      <th>youth</th>\n",
       "      <th>kid</th>\n",
       "    </tr>\n",
       "    <tr>\n",
       "      <th>Year</th>\n",
       "      <th></th>\n",
       "      <th></th>\n",
       "      <th></th>\n",
       "    </tr>\n",
       "  </thead>\n",
       "  <tbody>\n",
       "    <tr>\n",
       "      <th>2010-01-01</th>\n",
       "      <td>0.049311</td>\n",
       "      <td>0.670817</td>\n",
       "      <td>0.279872</td>\n",
       "    </tr>\n",
       "    <tr>\n",
       "      <th>2011-01-01</th>\n",
       "      <td>0.050124</td>\n",
       "      <td>0.675067</td>\n",
       "      <td>0.274809</td>\n",
       "    </tr>\n",
       "    <tr>\n",
       "      <th>2012-01-01</th>\n",
       "      <td>0.051157</td>\n",
       "      <td>0.678403</td>\n",
       "      <td>0.270440</td>\n",
       "    </tr>\n",
       "    <tr>\n",
       "      <th>2013-01-01</th>\n",
       "      <td>0.052283</td>\n",
       "      <td>0.681059</td>\n",
       "      <td>0.266658</td>\n",
       "    </tr>\n",
       "    <tr>\n",
       "      <th>2014-01-01</th>\n",
       "      <td>0.053320</td>\n",
       "      <td>0.683858</td>\n",
       "      <td>0.262822</td>\n",
       "    </tr>\n",
       "    <tr>\n",
       "      <th>2015-01-01</th>\n",
       "      <td>0.054205</td>\n",
       "      <td>0.687510</td>\n",
       "      <td>0.258284</td>\n",
       "    </tr>\n",
       "    <tr>\n",
       "      <th>2016-01-01</th>\n",
       "      <td>0.055027</td>\n",
       "      <td>0.691844</td>\n",
       "      <td>0.253128</td>\n",
       "    </tr>\n",
       "    <tr>\n",
       "      <th>2017-01-01</th>\n",
       "      <td>0.055922</td>\n",
       "      <td>0.695925</td>\n",
       "      <td>0.248152</td>\n",
       "    </tr>\n",
       "    <tr>\n",
       "      <th>2018-01-01</th>\n",
       "      <td>0.056953</td>\n",
       "      <td>0.699057</td>\n",
       "      <td>0.243990</td>\n",
       "    </tr>\n",
       "    <tr>\n",
       "      <th>2019-01-01</th>\n",
       "      <td>0.058074</td>\n",
       "      <td>0.701501</td>\n",
       "      <td>0.240425</td>\n",
       "    </tr>\n",
       "    <tr>\n",
       "      <th>2020-01-01</th>\n",
       "      <td>0.059180</td>\n",
       "      <td>0.704117</td>\n",
       "      <td>0.236703</td>\n",
       "    </tr>\n",
       "    <tr>\n",
       "      <th>2021-01-01</th>\n",
       "      <td>0.060197</td>\n",
       "      <td>0.707409</td>\n",
       "      <td>0.232395</td>\n",
       "    </tr>\n",
       "  </tbody>\n",
       "</table>\n",
       "</div>"
      ],
      "text/plain": [
       "               elder     youth       kid\n",
       "Year                                    \n",
       "2010-01-01  0.049311  0.670817  0.279872\n",
       "2011-01-01  0.050124  0.675067  0.274809\n",
       "2012-01-01  0.051157  0.678403  0.270440\n",
       "2013-01-01  0.052283  0.681059  0.266658\n",
       "2014-01-01  0.053320  0.683858  0.262822\n",
       "2015-01-01  0.054205  0.687510  0.258284\n",
       "2016-01-01  0.055027  0.691844  0.253128\n",
       "2017-01-01  0.055922  0.695925  0.248152\n",
       "2018-01-01  0.056953  0.699057  0.243990\n",
       "2019-01-01  0.058074  0.701501  0.240425\n",
       "2020-01-01  0.059180  0.704117  0.236703\n",
       "2021-01-01  0.060197  0.707409  0.232395"
      ]
     },
     "execution_count": 76,
     "metadata": {},
     "output_type": "execute_result"
    }
   ],
   "source": [
    "df_forecast"
   ]
  },
  {
   "cell_type": "code",
   "execution_count": 77,
   "metadata": {},
   "outputs": [
    {
     "data": {
      "text/plain": [
       "<function matplotlib.pyplot.show(close=None, block=None)>"
      ]
     },
     "execution_count": 77,
     "metadata": {},
     "output_type": "execute_result"
    },
    {
     "data": {
      "image/png": "[encoded data removed]",
      "text/plain": [
       "<Figure size 640x480 with 1 Axes>"
      ]
     },
     "metadata": {},
     "output_type": "display_data"
    }
   ],
   "source": [
    "plt.plot(df_actual['elder'],label=\"Elder\")\n",
    "plt.plot(df_actual['youth'],label=\"Youth\")\n",
    "plt.plot(df_actual['kid'],label=\"Kid\")\n",
    "plt.plot(df_forecast['elder'],label=\"Elder_forecast\")\n",
    "plt.plot(df_forecast['youth'],label=\"Youth_forecast\")\n",
    "plt.plot(df_forecast['kid'],label=\"Kid_forecast\")\n",
    "\n",
    "plt.plot(test_data['elder'],label=\"Elder_actual\")\n",
    "plt.plot(test_data['youth'],label=\"Youth_actual\")\n",
    "plt.plot(test_data['kid'],label=\"Kid_actual\")\n",
    "\n",
    "\n",
    "plt.legend(loc='best')\n",
    "plt.show"
   ]
  },
  {
   "cell_type": "code",
   "execution_count": 78,
   "metadata": {},
   "outputs": [],
   "source": [
    "residual = pd.DataFrame(test_data-df_forecast)"
   ]
  },
  {
   "cell_type": "code",
   "execution_count": 79,
   "metadata": {},
   "outputs": [
    {
     "data": {
      "text/html": [
       "<div>\n",
       "<style scoped>\n",
       "    .dataframe tbody tr th:only-of-type {\n",
       "        vertical-align: middle;\n",
       "    }\n",
       "\n",
       "    .dataframe tbody tr th {\n",
       "        vertical-align: top;\n",
       "    }\n",
       "\n",
       "    .dataframe thead th {\n",
       "        text-align: right;\n",
       "    }\n",
       "</style>\n",
       "<table border=\"1\" class=\"dataframe\">\n",
       "  <thead>\n",
       "    <tr style=\"text-align: right;\">\n",
       "      <th></th>\n",
       "      <th>elder</th>\n",
       "      <th>youth</th>\n",
       "      <th>kid</th>\n",
       "    </tr>\n",
       "    <tr>\n",
       "      <th>Year</th>\n",
       "      <th></th>\n",
       "      <th></th>\n",
       "      <th></th>\n",
       "    </tr>\n",
       "  </thead>\n",
       "  <tbody>\n",
       "    <tr>\n",
       "      <th>2010-01-01</th>\n",
       "      <td>0.000070</td>\n",
       "      <td>0.000190</td>\n",
       "      <td>-0.000261</td>\n",
       "    </tr>\n",
       "    <tr>\n",
       "      <th>2011-01-01</th>\n",
       "      <td>0.001020</td>\n",
       "      <td>0.000802</td>\n",
       "      <td>-0.001822</td>\n",
       "    </tr>\n",
       "    <tr>\n",
       "      <th>2012-01-01</th>\n",
       "      <td>0.001961</td>\n",
       "      <td>0.001507</td>\n",
       "      <td>-0.003468</td>\n",
       "    </tr>\n",
       "    <tr>\n",
       "      <th>2013-01-01</th>\n",
       "      <td>0.002975</td>\n",
       "      <td>0.002341</td>\n",
       "      <td>-0.005317</td>\n",
       "    </tr>\n",
       "    <tr>\n",
       "      <th>2014-01-01</th>\n",
       "      <td>0.004166</td>\n",
       "      <td>0.002686</td>\n",
       "      <td>-0.006851</td>\n",
       "    </tr>\n",
       "    <tr>\n",
       "      <th>2015-01-01</th>\n",
       "      <td>0.005550</td>\n",
       "      <td>0.001838</td>\n",
       "      <td>-0.007388</td>\n",
       "    </tr>\n",
       "    <tr>\n",
       "      <th>2016-01-01</th>\n",
       "      <td>0.007004</td>\n",
       "      <td>-0.001038</td>\n",
       "      <td>-0.005966</td>\n",
       "    </tr>\n",
       "    <tr>\n",
       "      <th>2017-01-01</th>\n",
       "      <td>0.008417</td>\n",
       "      <td>-0.003703</td>\n",
       "      <td>-0.004715</td>\n",
       "    </tr>\n",
       "    <tr>\n",
       "      <th>2018-01-01</th>\n",
       "      <td>0.009765</td>\n",
       "      <td>-0.005726</td>\n",
       "      <td>-0.004039</td>\n",
       "    </tr>\n",
       "    <tr>\n",
       "      <th>2019-01-01</th>\n",
       "      <td>0.011134</td>\n",
       "      <td>-0.007658</td>\n",
       "      <td>-0.003475</td>\n",
       "    </tr>\n",
       "    <tr>\n",
       "      <th>2020-01-01</th>\n",
       "      <td>0.012657</td>\n",
       "      <td>-0.010435</td>\n",
       "      <td>-0.002221</td>\n",
       "    </tr>\n",
       "    <tr>\n",
       "      <th>2021-01-01</th>\n",
       "      <td>0.014259</td>\n",
       "      <td>-0.014531</td>\n",
       "      <td>0.000272</td>\n",
       "    </tr>\n",
       "  </tbody>\n",
       "</table>\n",
       "</div>"
      ],
      "text/plain": [
       "               elder     youth       kid\n",
       "Year                                    \n",
       "2010-01-01  0.000070  0.000190 -0.000261\n",
       "2011-01-01  0.001020  0.000802 -0.001822\n",
       "2012-01-01  0.001961  0.001507 -0.003468\n",
       "2013-01-01  0.002975  0.002341 -0.005317\n",
       "2014-01-01  0.004166  0.002686 -0.006851\n",
       "2015-01-01  0.005550  0.001838 -0.007388\n",
       "2016-01-01  0.007004 -0.001038 -0.005966\n",
       "2017-01-01  0.008417 -0.003703 -0.004715\n",
       "2018-01-01  0.009765 -0.005726 -0.004039\n",
       "2019-01-01  0.011134 -0.007658 -0.003475\n",
       "2020-01-01  0.012657 -0.010435 -0.002221\n",
       "2021-01-01  0.014259 -0.014531  0.000272"
      ]
     },
     "execution_count": 79,
     "metadata": {},
     "output_type": "execute_result"
    }
   ],
   "source": [
    "residual"
   ]
  },
  {
   "cell_type": "code",
   "execution_count": 80,
   "metadata": {},
   "outputs": [
    {
     "data": {
      "text/plain": [
       "<AxesSubplot:ylabel='Density'>"
      ]
     },
     "execution_count": 80,
     "metadata": {},
     "output_type": "execute_result"
    },
    {
     "data": {
      "image/png": "[encoded data removed]",
      "text/plain": [
       "<Figure size 640x480 with 1 Axes>"
      ]
     },
     "metadata": {},
     "output_type": "display_data"
    }
   ],
   "source": [
    "import seaborn as sns\n",
    "\n",
    "sns.distplot(residual,kde=True)"
   ]
  },
  {
   "cell_type": "code",
   "execution_count": 81,
   "metadata": {},
   "outputs": [
    {
     "data": {
      "text/plain": [
       "<AxesSubplot:xlabel='kid', ylabel='Density'>"
      ]
     },
     "execution_count": 81,
     "metadata": {},
     "output_type": "execute_result"
    },
    {
     "data": {
      "image/png": "[encoded data removed]",
      "text/plain": [
       "<Figure size 640x480 with 1 Axes>"
      ]
     },
     "metadata": {},
     "output_type": "display_data"
    }
   ],
   "source": [
    "sns.distplot(residual['kid'],kde=True)\n",
    "          "
   ]
  },
  {
   "cell_type": "code",
   "execution_count": 82,
   "metadata": {},
   "outputs": [
    {
     "data": {
      "text/plain": [
       "<AxesSubplot:xlabel='youth', ylabel='Density'>"
      ]
     },
     "execution_count": 82,
     "metadata": {},
     "output_type": "execute_result"
    },
    {
     "data": {
      "image/png": "[encoded data removed]",
      "text/plain": [
       "<Figure size 640x480 with 1 Axes>"
      ]
     },
     "metadata": {},
     "output_type": "display_data"
    }
   ],
   "source": [
    "sns.distplot(residual['youth'],kde=True)"
   ]
  },
  {
   "cell_type": "code",
   "execution_count": 83,
   "metadata": {},
   "outputs": [
    {
     "data": {
      "text/plain": [
       "<AxesSubplot:xlabel='elder', ylabel='Density'>"
      ]
     },
     "execution_count": 83,
     "metadata": {},
     "output_type": "execute_result"
    },
    {
     "data": {
      "image/png": "[encoded data removed]",
      "text/plain": [
       "<Figure size 640x480 with 1 Axes>"
      ]
     },
     "metadata": {},
     "output_type": "display_data"
    }
   ],
   "source": [
    "sns.distplot(residual['elder'],kde=True)"
   ]
  }
 ],
 "metadata": {
  "kernelspec": {
   "display_name": "base",
   "language": "python",
   "name": "python3"
  },
  "language_info": {
   "codemirror_mode": {
    "name": "ipython",
    "version": 3
   },
   "file_extension": ".py",
   "mimetype": "text/x-python",
   "name": "python",
   "nbconvert_exporter": "python",
   "pygments_lexer": "ipython3",
   "version": "3.9.13 (main, Aug 25 2022, 23:51:50) [MSC v.1916 64 bit (AMD64)]"
  },
  "orig_nbformat": 4,
  "vscode": {
   "interpreter": {
    "hash": "f08154012ddadd8e950e6e9e035c7a7b32c136e7647e9b7c77e02eb723a8bedb"
   }
  }
 },
 "nbformat": 4,
 "nbformat_minor": 2
}
