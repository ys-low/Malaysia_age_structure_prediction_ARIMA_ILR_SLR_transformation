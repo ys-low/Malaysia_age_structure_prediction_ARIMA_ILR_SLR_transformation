{
 "cells": [
  {
   "cell_type": "code",
   "execution_count": 2,
   "metadata": {},
   "outputs": [],
   "source": [
    "import pandas as pd\n",
    "import matplotlib.pyplot as plt\n",
    "import numpy as np\n",
    "from sklearn.model_selection import train_test_split\n",
    "from statsmodels.tsa.arima.model import ARIMA\n",
    "from math import sqrt\n",
    "from sklearn.metrics import mean_squared_error\n",
    "import pmdarima\n",
    "from composition_stats import closure\n",
    "import warnings\n",
    "warnings.filterwarnings(\"ignore\")"
   ]
  },
  {
   "cell_type": "code",
   "execution_count": null,
   "metadata": {},
   "outputs": [],
   "source": [
    "import os \n",
    "  \n",
    "# current directory \n",
    "current_dir = os.getcwd() \n",
    "relative_path=os.path.abspath(os.path.join(current_dir, os.pardir))"
   ]
  },
  {
   "cell_type": "code",
   "execution_count": 3,
   "metadata": {},
   "outputs": [],
   "source": [
    "train_data= pd.DataFrame(pd.read_csv(\n",
    "    relative_path+\"\\\\age_structure_data\\\\df_train.csv\"))\n",
    "train_data['Year'] = pd.to_datetime(train_data['Year'])\n",
    "train_data = train_data.set_index(\"Year\")\n",
    "\n",
    "test_data= pd.DataFrame(pd.read_csv(\n",
    "    relative_path+\"\\\\age_structure_data\\\\df_test.csv\"))\n",
    "test_data['Year'] = pd.to_datetime(test_data['Year'])\n",
    "test_data = test_data.set_index(\"Year\")"
   ]
  },
  {
   "cell_type": "code",
   "execution_count": 4,
   "metadata": {},
   "outputs": [],
   "source": [
    "e_ori=train_data['elder']\n",
    "y_ori=train_data['youth']\n",
    "k_ori=train_data['kid']"
   ]
  },
  {
   "cell_type": "code",
   "execution_count": 5,
   "metadata": {},
   "outputs": [],
   "source": [
    "def find_best_pdq(train_data, test_data, d):\n",
    "    df_search = pd.DataFrame()\n",
    "    for p in range(6):\n",
    "            for q in range(6):\n",
    "                arima_model = ARIMA(train_data, order=(p, d, q)).fit()\n",
    "                # predict from the position of test data which is length of train data\n",
    "                prediction = arima_model.predict(\n",
    "                    start=len(train_data), end=len(train_data)+len(test_data)-1)\n",
    "                rmse = sqrt(mean_squared_error(test_data, prediction))\n",
    "                df_search = df_search.append({'pdq_paramters': str(\n",
    "                    p)+\" \"+str(d)+\" \"+str(q), 'rmse': rmse}, ignore_index=True)\n",
    "    return df_search, test_data, prediction"
   ]
  },
  {
   "cell_type": "code",
   "execution_count": 6,
   "metadata": {},
   "outputs": [
    {
     "data": {
      "text/html": [
       "<div>\n",
       "<style scoped>\n",
       "    .dataframe tbody tr th:only-of-type {\n",
       "        vertical-align: middle;\n",
       "    }\n",
       "\n",
       "    .dataframe tbody tr th {\n",
       "        vertical-align: top;\n",
       "    }\n",
       "\n",
       "    .dataframe thead th {\n",
       "        text-align: right;\n",
       "    }\n",
       "</style>\n",
       "<table border=\"1\" class=\"dataframe\">\n",
       "  <thead>\n",
       "    <tr style=\"text-align: right;\">\n",
       "      <th></th>\n",
       "      <th>rmse</th>\n",
       "    </tr>\n",
       "    <tr>\n",
       "      <th>pdq_paramters</th>\n",
       "      <th></th>\n",
       "    </tr>\n",
       "  </thead>\n",
       "  <tbody>\n",
       "    <tr>\n",
       "      <th>3 2 2</th>\n",
       "      <td>0.000669</td>\n",
       "    </tr>\n",
       "    <tr>\n",
       "      <th>2 2 2</th>\n",
       "      <td>0.000731</td>\n",
       "    </tr>\n",
       "    <tr>\n",
       "      <th>2 2 3</th>\n",
       "      <td>0.001512</td>\n",
       "    </tr>\n",
       "    <tr>\n",
       "      <th>5 2 4</th>\n",
       "      <td>0.001557</td>\n",
       "    </tr>\n",
       "    <tr>\n",
       "      <th>3 2 5</th>\n",
       "      <td>0.001656</td>\n",
       "    </tr>\n",
       "  </tbody>\n",
       "</table>\n",
       "</div>"
      ],
      "text/plain": [
       "                   rmse\n",
       "pdq_paramters          \n",
       "3 2 2          0.000669\n",
       "2 2 2          0.000731\n",
       "2 2 3          0.001512\n",
       "5 2 4          0.001557\n",
       "3 2 5          0.001656"
      ]
     },
     "execution_count": 6,
     "metadata": {},
     "output_type": "execute_result"
    }
   ],
   "source": [
    "train_e_1, test_e_1 = train_test_split(e_ori, test_size=0.2, shuffle=False)\n",
    "train_e_2, test_e_2 = train_test_split(train_e_1, test_size=0.2, shuffle=False)\n",
    "train_e_3, test_e_3 = train_test_split(train_e_2, test_size=0.15, shuffle=False)\n",
    "log_ratio_e_best_pdq1, test_data_e_1, prediction_test_e_1=find_best_pdq(train_e_1, test_e_1, 2)\n",
    "log_ratio_e_best_pdq2, test_data_e_2, prediction_test_e_2=find_best_pdq(train_e_2, test_e_2, 2)\n",
    "log_ratio_e_best_pdq3, test_data_e_3, prediction_test_e_3=find_best_pdq(train_e_3, test_e_3, 2)\n",
    "\n",
    "concatenated_1 = pd.concat([log_ratio_e_best_pdq1, log_ratio_e_best_pdq2, log_ratio_e_best_pdq3])\n",
    "concatenated_1=concatenated_1.groupby('pdq_paramters').mean()\n",
    "concatenated_1.sort_values('rmse', ascending=True).head()"
   ]
  },
  {
   "cell_type": "code",
   "execution_count": 7,
   "metadata": {},
   "outputs": [],
   "source": [
    "arima_model_e = ARIMA(e_ori, order=(3, 2, 2)).fit()\n",
    "prediction_e = arima_model_e.predict(\n",
    "    start=len(e_ori), end=len(e_ori)+len(test_data)-1)\n",
    "prediction_e = prediction_e.to_frame()\n",
    "prediction_e.rename(columns = {'predicted_mean':0}, inplace = True)\n",
    "final_e = pd.concat([e_ori, prediction_e])"
   ]
  },
  {
   "cell_type": "code",
   "execution_count": 8,
   "metadata": {},
   "outputs": [
    {
     "data": {
      "text/html": [
       "<div>\n",
       "<style scoped>\n",
       "    .dataframe tbody tr th:only-of-type {\n",
       "        vertical-align: middle;\n",
       "    }\n",
       "\n",
       "    .dataframe tbody tr th {\n",
       "        vertical-align: top;\n",
       "    }\n",
       "\n",
       "    .dataframe thead th {\n",
       "        text-align: right;\n",
       "    }\n",
       "</style>\n",
       "<table border=\"1\" class=\"dataframe\">\n",
       "  <thead>\n",
       "    <tr style=\"text-align: right;\">\n",
       "      <th></th>\n",
       "      <th>rmse</th>\n",
       "    </tr>\n",
       "    <tr>\n",
       "      <th>pdq_paramters</th>\n",
       "      <th></th>\n",
       "    </tr>\n",
       "  </thead>\n",
       "  <tbody>\n",
       "    <tr>\n",
       "      <th>4 1 3</th>\n",
       "      <td>0.002114</td>\n",
       "    </tr>\n",
       "    <tr>\n",
       "      <th>1 1 0</th>\n",
       "      <td>0.002727</td>\n",
       "    </tr>\n",
       "    <tr>\n",
       "      <th>2 1 0</th>\n",
       "      <td>0.002859</td>\n",
       "    </tr>\n",
       "    <tr>\n",
       "      <th>1 1 2</th>\n",
       "      <td>0.003076</td>\n",
       "    </tr>\n",
       "    <tr>\n",
       "      <th>4 1 2</th>\n",
       "      <td>0.003088</td>\n",
       "    </tr>\n",
       "  </tbody>\n",
       "</table>\n",
       "</div>"
      ],
      "text/plain": [
       "                   rmse\n",
       "pdq_paramters          \n",
       "4 1 3          0.002114\n",
       "1 1 0          0.002727\n",
       "2 1 0          0.002859\n",
       "1 1 2          0.003076\n",
       "4 1 2          0.003088"
      ]
     },
     "execution_count": 8,
     "metadata": {},
     "output_type": "execute_result"
    }
   ],
   "source": [
    "train_y_1, test_y_1 = train_test_split(y_ori, test_size=0.2, shuffle=False)\n",
    "train_y_2, test_y_2 = train_test_split(train_y_1, test_size=0.2, shuffle=False)\n",
    "train_y_3, test_y_3 = train_test_split(train_y_2, test_size=0.15, shuffle=False)\n",
    "log_ratio_y_best_pdq1, test_data_y_1, prediction_test_y_1=find_best_pdq(train_y_1, test_y_1, 1)\n",
    "log_ratio_y_best_pdq2, test_data_y_2, prediction_test_y_2=find_best_pdq(train_y_2, test_y_2, 1)\n",
    "log_ratio_y_best_pdq3, test_data_y_3, prediction_test_y_3=find_best_pdq(train_y_3, test_y_3, 1)\n",
    "\n",
    "concatenated_1 = pd.concat([log_ratio_y_best_pdq1, log_ratio_y_best_pdq2, log_ratio_y_best_pdq3])\n",
    "concatenated_1=concatenated_1.groupby('pdq_paramters').mean()\n",
    "concatenated_1.sort_values('rmse', ascending=True).head()"
   ]
  },
  {
   "cell_type": "code",
   "execution_count": 9,
   "metadata": {},
   "outputs": [],
   "source": [
    "arima_model_y = ARIMA(y_ori, order=(4, 1, 3)).fit()\n",
    "prediction_y = arima_model_y.predict(\n",
    "    start=len(y_ori), end=len(y_ori)+len(test_data)-1)\n",
    "prediction_y = prediction_y.to_frame()\n",
    "prediction_y.rename(columns = {'predicted_mean':0}, inplace = True)\n",
    "final_y = pd.concat([y_ori, prediction_y])"
   ]
  },
  {
   "cell_type": "code",
   "execution_count": 10,
   "metadata": {},
   "outputs": [
    {
     "data": {
      "text/html": [
       "<div>\n",
       "<style scoped>\n",
       "    .dataframe tbody tr th:only-of-type {\n",
       "        vertical-align: middle;\n",
       "    }\n",
       "\n",
       "    .dataframe tbody tr th {\n",
       "        vertical-align: top;\n",
       "    }\n",
       "\n",
       "    .dataframe thead th {\n",
       "        text-align: right;\n",
       "    }\n",
       "</style>\n",
       "<table border=\"1\" class=\"dataframe\">\n",
       "  <thead>\n",
       "    <tr style=\"text-align: right;\">\n",
       "      <th></th>\n",
       "      <th>rmse</th>\n",
       "    </tr>\n",
       "    <tr>\n",
       "      <th>pdq_paramters</th>\n",
       "      <th></th>\n",
       "    </tr>\n",
       "  </thead>\n",
       "  <tbody>\n",
       "    <tr>\n",
       "      <th>3 1 3</th>\n",
       "      <td>0.003076</td>\n",
       "    </tr>\n",
       "    <tr>\n",
       "      <th>4 1 3</th>\n",
       "      <td>0.003140</td>\n",
       "    </tr>\n",
       "    <tr>\n",
       "      <th>5 1 3</th>\n",
       "      <td>0.003217</td>\n",
       "    </tr>\n",
       "    <tr>\n",
       "      <th>2 1 4</th>\n",
       "      <td>0.003315</td>\n",
       "    </tr>\n",
       "    <tr>\n",
       "      <th>3 1 4</th>\n",
       "      <td>0.003359</td>\n",
       "    </tr>\n",
       "  </tbody>\n",
       "</table>\n",
       "</div>"
      ],
      "text/plain": [
       "                   rmse\n",
       "pdq_paramters          \n",
       "3 1 3          0.003076\n",
       "4 1 3          0.003140\n",
       "5 1 3          0.003217\n",
       "2 1 4          0.003315\n",
       "3 1 4          0.003359"
      ]
     },
     "execution_count": 10,
     "metadata": {},
     "output_type": "execute_result"
    }
   ],
   "source": [
    "train_k_1, test_k_1 = train_test_split(k_ori, test_size=0.2, shuffle=False)\n",
    "train_k_2, test_k_2 = train_test_split(train_k_1, test_size=0.2, shuffle=False)\n",
    "train_k_3, test_k_3 = train_test_split(train_k_2, test_size=0.15, shuffle=False)\n",
    "log_ratio_k_best_pdq1, test_data_k_1, prediction_test_k_1=find_best_pdq(train_k_1, test_k_1, 1)\n",
    "log_ratio_k_best_pdq2, test_data_k_2, prediction_test_k_2=find_best_pdq(train_k_2, test_k_2, 1)\n",
    "log_ratio_k_best_pdq3, test_data_k_3, prediction_test_k_3=find_best_pdq(train_k_3, test_k_3, 1)\n",
    "\n",
    "concatenated_1 = pd.concat([log_ratio_k_best_pdq1, log_ratio_k_best_pdq2, log_ratio_k_best_pdq3])\n",
    "concatenated_1=concatenated_1.groupby('pdq_paramters').mean()\n",
    "concatenated_1.sort_values('rmse', ascending=True).head()"
   ]
  },
  {
   "cell_type": "code",
   "execution_count": 11,
   "metadata": {},
   "outputs": [],
   "source": [
    "arima_model_k = ARIMA(k_ori, order=(3, 1, 2)).fit()\n",
    "prediction_k = arima_model_k.predict(\n",
    "    start=len(k_ori), end=len(k_ori)+len(test_data)-1)\n",
    "prediction_k = prediction_k.to_frame()\n",
    "prediction_k.rename(columns = {'predicted_mean':0}, inplace = True)\n",
    "final_k = pd.concat([k_ori, prediction_k])"
   ]
  },
  {
   "cell_type": "code",
   "execution_count": 12,
   "metadata": {},
   "outputs": [],
   "source": [
    "final_e.rename(columns = {0:'e'}, inplace = True)\n",
    "final_y.rename(columns = {0:'y'}, inplace = True)\n",
    "final_k.rename(columns = {0:'k'}, inplace = True)"
   ]
  },
  {
   "cell_type": "code",
   "execution_count": 13,
   "metadata": {},
   "outputs": [],
   "source": [
    "full = pd.concat([final_e, final_y,final_k],axis=1)"
   ]
  },
  {
   "cell_type": "code",
   "execution_count": 14,
   "metadata": {},
   "outputs": [],
   "source": [
    "data_proportion = closure(full)"
   ]
  },
  {
   "cell_type": "code",
   "execution_count": 15,
   "metadata": {},
   "outputs": [],
   "source": [
    "def set_col(df):\n",
    "    df = pd.DataFrame(df, columns=[\n",
    "    'elder', 'youth', 'kid'])\n",
    "    df['Year'] = df.index + 1964\n",
    "    df['Year'] = pd.to_datetime(df['Year'], format='%Y')\n",
    "    df = df.set_index(\"Year\")\n",
    "    return df"
   ]
  },
  {
   "cell_type": "code",
   "execution_count": 16,
   "metadata": {},
   "outputs": [],
   "source": [
    "proportion = set_col(data_proportion)"
   ]
  },
  {
   "cell_type": "code",
   "execution_count": 17,
   "metadata": {},
   "outputs": [],
   "source": [
    "df_actual=proportion[(proportion.index< '2010-01-01')]\n",
    "df_forecast=proportion[(proportion.index> '2009-01-01')]\n"
   ]
  },
  {
   "cell_type": "code",
   "execution_count": 18,
   "metadata": {},
   "outputs": [],
   "source": [
    "proportion_actual_1=closure(pd.concat([test_data_e_1.to_frame(), test_data_y_1.to_frame(),  test_data_k_1.to_frame()],axis=1))\n",
    "proportion_actual_2=closure(pd.concat([test_data_e_2.to_frame(), test_data_y_2.to_frame(), test_data_k_2.to_frame()],axis=1))\n",
    "proportion_actual_3=closure(pd.concat([test_data_e_3.to_frame(), test_data_y_3.to_frame(), test_data_k_3.to_frame()],axis=1))\n",
    "proportion_forecast_1=closure(pd.concat([prediction_test_e_1.to_frame(), prediction_test_y_1.to_frame(), prediction_test_k_1.to_frame()],axis=1))\n",
    "proportion_forecast_2=closure(pd.concat([prediction_test_e_2.to_frame(), prediction_test_y_2.to_frame(),prediction_test_k_2.to_frame()],axis=1))\n",
    "proportion_forecast_3=closure(pd.concat([prediction_test_e_3.to_frame(), prediction_test_y_3.to_frame(),prediction_test_k_3.to_frame()],axis=1))"
   ]
  },
  {
   "cell_type": "code",
   "execution_count": 19,
   "metadata": {},
   "outputs": [
    {
     "data": {
      "text/plain": [
       "0.004692927491535809"
      ]
     },
     "execution_count": 19,
     "metadata": {},
     "output_type": "execute_result"
    }
   ],
   "source": [
    "rmse1 = sqrt(mean_squared_error(proportion_actual_1, proportion_forecast_1))\n",
    "rmse2 = sqrt(mean_squared_error(proportion_actual_2, proportion_forecast_2))\n",
    "rmse3 = sqrt(mean_squared_error(proportion_actual_3, proportion_forecast_3))\n",
    "\n",
    "rmse_cv=(rmse1+rmse2+rmse3)/3\n",
    "rmse_cv"
   ]
  },
  {
   "cell_type": "code",
   "execution_count": 20,
   "metadata": {},
   "outputs": [
    {
     "data": {
      "text/plain": [
       "0.008330358548700201"
      ]
     },
     "execution_count": 20,
     "metadata": {},
     "output_type": "execute_result"
    }
   ],
   "source": [
    "rmse_final = sqrt(mean_squared_error(df_forecast, test_data))\n",
    "rmse_final"
   ]
  },
  {
   "cell_type": "code",
   "execution_count": 22,
   "metadata": {},
   "outputs": [],
   "source": [
    "df_forecast.to_csv(relative_path+\"\\\\age_structure_data\\\\grid_base_forecast.csv\")"
   ]
  }
 ],
 "metadata": {
  "kernelspec": {
   "display_name": "base",
   "language": "python",
   "name": "python3"
  },
  "language_info": {
   "codemirror_mode": {
    "name": "ipython",
    "version": 3
   },
   "file_extension": ".py",
   "mimetype": "text/x-python",
   "name": "python",
   "nbconvert_exporter": "python",
   "pygments_lexer": "ipython3",
   "version": "3.9.13 (main, Aug 25 2022, 23:51:50) [MSC v.1916 64 bit (AMD64)]"
  },
  "orig_nbformat": 4,
  "vscode": {
   "interpreter": {
    "hash": "f08154012ddadd8e950e6e9e035c7a7b32c136e7647e9b7c77e02eb723a8bedb"
   }
  }
 },
 "nbformat": 4,
 "nbformat_minor": 2
}
